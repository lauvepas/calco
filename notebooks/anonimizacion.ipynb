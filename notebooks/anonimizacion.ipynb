{
 "cells": [
  {
   "cell_type": "markdown",
   "metadata": {},
   "source": [
    "Cuaderno de jupyter que se ha creado únicamente con la intentención de anonimizar los datos de la empresa. \n",
    "Se han borrado los nombres de los artículos producidos, los componentes y los proveedores, dejando todo codificado. \n",
    "\n",
    "!!!!! No ejecutar puesto que los archivos de origen ya han sido eliminados."
   ]
  },
  {
   "cell_type": "code",
   "execution_count": 1,
   "metadata": {},
   "outputs": [],
   "source": [
    "import sys\n",
    "import os\n",
    "import pandas as pd\n",
    "from pathlib import Path\n",
    "import numpy as np"
   ]
  },
  {
   "cell_type": "code",
   "execution_count": 2,
   "metadata": {},
   "outputs": [],
   "source": [
    "# Add the src directory to the Python path\n",
    "src_path = os.path.abspath(os.path.join(os.getcwd(), '..', 'src'))\n",
    "if src_path not in sys.path:\n",
    "    sys.path.append(src_path)"
   ]
  },
  {
   "cell_type": "code",
   "execution_count": 3,
   "metadata": {},
   "outputs": [],
   "source": [
    "project_root_path = Path(src_path).parent\n",
    "data_path = project_root_path / 'data'\n",
    "raw_path = data_path / 'raw'\n",
    "clean_path = data_path / 'clean'"
   ]
  },
  {
   "cell_type": "code",
   "execution_count": 4,
   "metadata": {},
   "outputs": [],
   "source": [
    "costes_anonim = pd.read_csv(raw_path / 'costes_original.csv',  encoding='UTF-8', sep=';', dtype=str)"
   ]
  },
  {
   "cell_type": "code",
   "execution_count": 5,
   "metadata": {},
   "outputs": [],
   "source": [
    "# Asignar NaN a las columnas 'Descripcion' y 'NOMPRO'\n",
    "costes_anonim['Artículo'] = np.nan\n",
    "costes_anonim['NOMPRO'] = np.nan"
   ]
  },
  {
   "cell_type": "code",
   "execution_count": 6,
   "metadata": {},
   "outputs": [],
   "source": [
    "fabricaciones_anonim = pd.read_csv(raw_path / 'fabricaciones_2025_original.csv',  encoding='UTF-8', sep=';', dtype=str)"
   ]
  },
  {
   "cell_type": "code",
   "execution_count": 7,
   "metadata": {},
   "outputs": [],
   "source": [
    "# Asignar NaN a las columnas 'Descripcion' y 'NOMPRO'\n",
    "fabricaciones_anonim['Descripción Producto'] = np.nan\n",
    "fabricaciones_anonim['Descripción Componente'] = np.nan"
   ]
  },
  {
   "cell_type": "code",
   "execution_count": 8,
   "metadata": {},
   "outputs": [],
   "source": [
    "costes_anonim.to_csv(raw_path / 'costes.csv', index=False)\n",
    "fabricaciones_anonim.to_csv(raw_path / 'fabricaciones.csv', index=False)"
   ]
  }
 ],
 "metadata": {
  "kernelspec": {
   "display_name": ".venv",
   "language": "python",
   "name": "python3"
  },
  "language_info": {
   "codemirror_mode": {
    "name": "ipython",
    "version": 3
   },
   "file_extension": ".py",
   "mimetype": "text/x-python",
   "name": "python",
   "nbconvert_exporter": "python",
   "pygments_lexer": "ipython3",
   "version": "3.9.6"
  }
 },
 "nbformat": 4,
 "nbformat_minor": 2
}
