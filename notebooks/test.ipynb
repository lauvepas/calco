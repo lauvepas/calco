{
 "cells": [
  {
   "cell_type": "code",
   "execution_count": 1,
   "metadata": {},
   "outputs": [],
   "source": [
    "import sys\n",
    "import os\n",
    "import pandas as pd\n",
    "from pathlib import Path\n"
   ]
  },
  {
   "cell_type": "code",
   "execution_count": 2,
   "metadata": {},
   "outputs": [],
   "source": [
    "# Añadir el directorio src al path de Python\n",
    "src_path = os.path.abspath(os.path.join(os.getcwd(), '..', 'src'))\n",
    "if src_path not in sys.path:\n",
    "    sys.path.append(src_path)\n"
   ]
  },
  {
   "cell_type": "code",
   "execution_count": 3,
   "metadata": {},
   "outputs": [],
   "source": [
    "from calculadora_margen.encoder import Encoder\n",
    "from calculadora_margen.cleaning import Cleaner\n",
    "from calculadora_margen.cleaning.params import Parameters\n",
    "from calculadora_margen.cleaning.validador import Validator\n",
    "from calculadora_margen.cleaning.outliers_manager import OutliersManager"
   ]
  },
  {
   "cell_type": "code",
   "execution_count": 4,
   "metadata": {},
   "outputs": [],
   "source": [
    "project_root_path = Path(src_path).parent\n",
    "data_path = project_root_path / 'data'\n",
    "raw_path = data_path / 'raw'\n",
    "clean_path = data_path / 'clean'"
   ]
  },
  {
   "cell_type": "markdown",
   "metadata": {},
   "source": [
    "ETL master_lotes"
   ]
  },
  {
   "cell_type": "code",
   "execution_count": 5,
   "metadata": {},
   "outputs": [],
   "source": [
    "master_lotes = pd.read_csv(raw_path / 'costes.csv',  encoding='UTF-8', sep=';', dtype=str)"
   ]
  },
  {
   "cell_type": "code",
   "execution_count": 24,
   "metadata": {},
   "outputs": [
    {
     "data": {
      "text/html": [
       "<div>\n",
       "<style scoped>\n",
       "    .dataframe tbody tr th:only-of-type {\n",
       "        vertical-align: middle;\n",
       "    }\n",
       "\n",
       "    .dataframe tbody tr th {\n",
       "        vertical-align: top;\n",
       "    }\n",
       "\n",
       "    .dataframe thead th {\n",
       "        text-align: right;\n",
       "    }\n",
       "</style>\n",
       "<table border=\"1\" class=\"dataframe\">\n",
       "  <thead>\n",
       "    <tr style=\"text-align: right;\">\n",
       "      <th></th>\n",
       "      <th>articulo</th>\n",
       "      <th>lote_proveedor</th>\n",
       "      <th>lote_componente</th>\n",
       "      <th>clave_merge</th>\n",
       "    </tr>\n",
       "  </thead>\n",
       "  <tbody>\n",
       "    <tr>\n",
       "      <th>16782</th>\n",
       "      <td>MAT020</td>\n",
       "      <td>902225</td>\n",
       "      <td>2502-105</td>\n",
       "      <td>MAT020-902225</td>\n",
       "    </tr>\n",
       "    <tr>\n",
       "      <th>8968</th>\n",
       "      <td>MAT038</td>\n",
       "      <td>UK091020</td>\n",
       "      <td>2010-028</td>\n",
       "      <td>MAT038-UK091020</td>\n",
       "    </tr>\n",
       "    <tr>\n",
       "      <th>4263</th>\n",
       "      <td>SEM075</td>\n",
       "      <td>120422</td>\n",
       "      <td>120422</td>\n",
       "      <td>SEM075-120422</td>\n",
       "    </tr>\n",
       "    <tr>\n",
       "      <th>4783</th>\n",
       "      <td>FCAR008</td>\n",
       "      <td>130820</td>\n",
       "      <td>130820</td>\n",
       "      <td>FCAR008-130820</td>\n",
       "    </tr>\n",
       "    <tr>\n",
       "      <th>900</th>\n",
       "      <td>SEM085</td>\n",
       "      <td>030423</td>\n",
       "      <td>030423</td>\n",
       "      <td>SEM085-030423</td>\n",
       "    </tr>\n",
       "    <tr>\n",
       "      <th>14128</th>\n",
       "      <td>MAT013</td>\n",
       "      <td>4033436</td>\n",
       "      <td>2309-002</td>\n",
       "      <td>MAT013-4033436</td>\n",
       "    </tr>\n",
       "    <tr>\n",
       "      <th>4782</th>\n",
       "      <td>SCCO002</td>\n",
       "      <td>130820</td>\n",
       "      <td>130820</td>\n",
       "      <td>SCCO002-130820</td>\n",
       "    </tr>\n",
       "    <tr>\n",
       "      <th>4309</th>\n",
       "      <td>SCRE060</td>\n",
       "      <td>120523</td>\n",
       "      <td>120523</td>\n",
       "      <td>SCRE060-120523</td>\n",
       "    </tr>\n",
       "    <tr>\n",
       "      <th>5840</th>\n",
       "      <td>ELAB005</td>\n",
       "      <td>160719</td>\n",
       "      <td>160719</td>\n",
       "      <td>ELAB005-160719</td>\n",
       "    </tr>\n",
       "    <tr>\n",
       "      <th>3676</th>\n",
       "      <td>SEM110</td>\n",
       "      <td>101023</td>\n",
       "      <td>101023</td>\n",
       "      <td>SEM110-101023</td>\n",
       "    </tr>\n",
       "  </tbody>\n",
       "</table>\n",
       "</div>"
      ],
      "text/plain": [
       "      articulo lote_proveedor lote_componente      clave_merge\n",
       "16782   MAT020         902225        2502-105    MAT020-902225\n",
       "8968    MAT038       UK091020        2010-028  MAT038-UK091020\n",
       "4263    SEM075         120422          120422    SEM075-120422\n",
       "4783   FCAR008         130820          130820   FCAR008-130820\n",
       "900     SEM085         030423          030423    SEM085-030423\n",
       "14128   MAT013        4033436        2309-002   MAT013-4033436\n",
       "4782   SCCO002         130820          130820   SCCO002-130820\n",
       "4309   SCRE060         120523          120523   SCRE060-120523\n",
       "5840   ELAB005         160719          160719   ELAB005-160719\n",
       "3676    SEM110         101023          101023    SEM110-101023"
      ]
     },
     "execution_count": 24,
     "metadata": {},
     "output_type": "execute_result"
    }
   ],
   "source": [
    "master_lotes.sample(10)"
   ]
  },
  {
   "cell_type": "code",
   "execution_count": 6,
   "metadata": {},
   "outputs": [],
   "source": [
    "cleaner = Cleaner(master_lotes)\n",
    "params = Parameters.master_lotes\n",
    "\n",
    "master_lotes = (cleaner\n",
    "    .keep_and_rename(params.cols_to_keep, params.rename_map)\n",
    "    .drop_duplicates()\n",
    "    .drop_na(params.drop_na_subset)\n",
    "    .to_upper()\n",
    "    .get_df()\n",
    ")"
   ]
  },
  {
   "cell_type": "code",
   "execution_count": 25,
   "metadata": {},
   "outputs": [
    {
     "name": "stdout",
     "output_type": "stream",
     "text": [
      "Tamaño inicial del DataFrame: 19252\n",
      "\n",
      "Validando columna: articulo\n",
      "Filas inválidas encontradas: 4\n",
      "\n",
      "Tamaño final del DataFrame: 19248\n"
     ]
    }
   ],
   "source": [
    "validator = Validator(master_lotes)\n",
    "master_lotes = (validator\n",
    "    .validate_with_map(params.validation_map)\n",
    "    .get_df()\n",
    ")"
   ]
  },
  {
   "cell_type": "code",
   "execution_count": 8,
   "metadata": {},
   "outputs": [],
   "source": [
    "# Creamos clave única para poder hacer merge en otros df\n",
    "encoder = Encoder(master_lotes)\n",
    "master_lotes = encoder.create_key(col1='articulo', col2='lote_proveedor', new_col_name='clave_merge')"
   ]
  },
  {
   "cell_type": "code",
   "execution_count": 9,
   "metadata": {},
   "outputs": [
    {
     "data": {
      "text/html": [
       "<div>\n",
       "<style scoped>\n",
       "    .dataframe tbody tr th:only-of-type {\n",
       "        vertical-align: middle;\n",
       "    }\n",
       "\n",
       "    .dataframe tbody tr th {\n",
       "        vertical-align: top;\n",
       "    }\n",
       "\n",
       "    .dataframe thead th {\n",
       "        text-align: right;\n",
       "    }\n",
       "</style>\n",
       "<table border=\"1\" class=\"dataframe\">\n",
       "  <thead>\n",
       "    <tr style=\"text-align: right;\">\n",
       "      <th></th>\n",
       "      <th>articulo</th>\n",
       "      <th>lote_proveedor</th>\n",
       "      <th>lote_componente</th>\n",
       "      <th>clave_merge</th>\n",
       "    </tr>\n",
       "  </thead>\n",
       "  <tbody>\n",
       "    <tr>\n",
       "      <th>17093</th>\n",
       "      <td>FCAR048</td>\n",
       "      <td>250523</td>\n",
       "      <td>250523</td>\n",
       "      <td>FCAR048-250523</td>\n",
       "    </tr>\n",
       "    <tr>\n",
       "      <th>12342</th>\n",
       "      <td>FCAR008</td>\n",
       "      <td>220824</td>\n",
       "      <td>220824</td>\n",
       "      <td>FCAR008-220824</td>\n",
       "    </tr>\n",
       "  </tbody>\n",
       "</table>\n",
       "</div>"
      ],
      "text/plain": [
       "      articulo lote_proveedor lote_componente     clave_merge\n",
       "17093  FCAR048         250523          250523  FCAR048-250523\n",
       "12342  FCAR008         220824          220824  FCAR008-220824"
      ]
     },
     "execution_count": 9,
     "metadata": {},
     "output_type": "execute_result"
    }
   ],
   "source": [
    "master_lotes.sample(2)"
   ]
  },
  {
   "cell_type": "code",
   "execution_count": 10,
   "metadata": {},
   "outputs": [],
   "source": [
    "master_lotes.to_csv(clean_path / 'master_lotes_clean.csv', index=False)"
   ]
  },
  {
   "cell_type": "markdown",
   "metadata": {},
   "source": [
    "ETL costes"
   ]
  },
  {
   "cell_type": "code",
   "execution_count": 11,
   "metadata": {},
   "outputs": [],
   "source": [
    "costes = pd.read_csv(raw_path / 'costes.csv',  encoding='UTF-8', sep=';', dtype=str)"
   ]
  },
  {
   "cell_type": "code",
   "execution_count": 12,
   "metadata": {},
   "outputs": [],
   "source": [
    "cleaner = Cleaner(costes)\n",
    "params = Parameters.costes\n",
    "\n",
    "costes = (cleaner\n",
    "    .drop_na(params.drop_na_subset)\n",
    "    .drop_duplicates()\n",
    "    .keep_and_rename(params.cols_to_keep, params.rename_map)\n",
    "    .fix_numeric_format(params.cols_to_float)\n",
    "    .drop_duplicates_batch(params.drop_duplicates_subset)\n",
    "    .to_upper()\n",
    "    .get_df()\n",
    ")"
   ]
  },
  {
   "cell_type": "code",
   "execution_count": 13,
   "metadata": {},
   "outputs": [
    {
     "name": "stdout",
     "output_type": "stream",
     "text": [
      "Tamaño inicial del DataFrame: 8000\n",
      "\n",
      "Validando columna: componente\n",
      "Filas inválidas encontradas: 1\n",
      "\n",
      "Validando columna: lote_componente\n",
      "Filas inválidas encontradas: 21\n",
      "\n",
      "Tamaño final del DataFrame: 7978\n"
     ]
    }
   ],
   "source": [
    "validator = Validator(costes)\n",
    "\n",
    "costes = (validator\n",
    "    .validate_with_map(params.validation_map)\n",
    "    .get_df()\n",
    ")"
   ]
  },
  {
   "cell_type": "code",
   "execution_count": 14,
   "metadata": {},
   "outputs": [],
   "source": [
    "# Ver las filas inválidas para una columna específica\n",
    "#invalid_rows = validator.get_invalid('lote_interno')\n",
    "#print(invalid_rows.head(10))"
   ]
  },
  {
   "cell_type": "code",
   "execution_count": 15,
   "metadata": {},
   "outputs": [
    {
     "name": "stdout",
     "output_type": "stream",
     "text": [
      "\n",
      "=== RESUMEN DE OUTLIERS ===\n",
      "Outliers detectados inicialmente: 71\n",
      "Outliers reemplazados por la media: 66\n",
      "Outliers restantes: 5\n",
      "\n",
      "Detalle de outliers restantes:\n",
      "- MAT101: 1 outliers (desviación media: 0.0%)\n",
      "- MAT183: 3 outliers (desviación media: 0.0%)\n",
      "- MAT265: 1 outliers (desviación media: 0.0%)\n"
     ]
    }
   ],
   "source": [
    "outliers_manager = OutliersManager(costes)\n",
    "\n",
    "costes = (outliers_manager\n",
    "    .process_outliers()\n",
    "    .clean_columns()\n",
    "    .get_df()\n",
    ")"
   ]
  },
  {
   "cell_type": "code",
   "execution_count": 16,
   "metadata": {},
   "outputs": [],
   "source": [
    "costes.to_csv(clean_path / 'costes_clean.csv', index=False)"
   ]
  },
  {
   "cell_type": "code",
   "execution_count": 17,
   "metadata": {},
   "outputs": [
    {
     "name": "stdout",
     "output_type": "stream",
     "text": [
      "<class 'pandas.core.frame.DataFrame'>\n",
      "RangeIndex: 7978 entries, 0 to 7977\n",
      "Data columns (total 3 columns):\n",
      " #   Column                     Non-Null Count  Dtype  \n",
      "---  ------                     --------------  -----  \n",
      " 0   coste_componente_unitario  7978 non-null   float64\n",
      " 1   lote_componente            7978 non-null   object \n",
      " 2   componente                 7978 non-null   object \n",
      "dtypes: float64(1), object(2)\n",
      "memory usage: 187.1+ KB\n"
     ]
    }
   ],
   "source": [
    "costes.info()"
   ]
  },
  {
   "cell_type": "markdown",
   "metadata": {},
   "source": [
    "ETL fabricaciones"
   ]
  },
  {
   "cell_type": "code",
   "execution_count": 18,
   "metadata": {},
   "outputs": [],
   "source": [
    "fabricaciones = pd.read_csv(raw_path / 'fabricaciones_2025.csv',  encoding='UTF-8', sep=';', dtype=str)"
   ]
  },
  {
   "cell_type": "code",
   "execution_count": 19,
   "metadata": {},
   "outputs": [],
   "source": [
    "# No queremos trabajar con lote_componente_proveedor, unimos a master_lotes para obtener lote_componente\n",
    "encoder = Encoder(fabricaciones)\n",
    "\n",
    "fabricaciones = encoder.create_key(col1='Componente', col2='Lote Componente', new_col_name='clave_merge')\n",
    "fabricaciones = fabricaciones.merge(master_lotes, on=\"clave_merge\", how=\"left\")"
   ]
  },
  {
   "cell_type": "code",
   "execution_count": 20,
   "metadata": {},
   "outputs": [],
   "source": [
    "cleaner = Cleaner(fabricaciones)\n",
    "params = Parameters.fabricaciones\n",
    "\n",
    "fabricaciones = (cleaner\n",
    "    .drop_duplicates()\n",
    "    .keep_and_rename(params.cols_to_keep, params.rename_map)\n",
    "    .fix_numeric_format(params.cols_to_float)\n",
    "    .drop_na(params.drop_na_subset)\n",
    "    .to_upper()\n",
    "    .get_df()\n",
    ")"
   ]
  },
  {
   "cell_type": "code",
   "execution_count": 21,
   "metadata": {},
   "outputs": [
    {
     "name": "stdout",
     "output_type": "stream",
     "text": [
      "Tamaño inicial del DataFrame: 19583\n",
      "\n",
      "Validando columna: articulo\n",
      "Filas inválidas encontradas: 0\n",
      "\n",
      "Validando columna: componente\n",
      "Filas inválidas encontradas: 0\n",
      "\n",
      "Tamaño final del DataFrame: 19583\n"
     ]
    }
   ],
   "source": [
    "validator = Validator(fabricaciones)\n",
    "fabricaciones = (validator\n",
    "    .validate_with_map(params.validation_map)\n",
    "    .get_df()\n",
    ")"
   ]
  },
  {
   "cell_type": "code",
   "execution_count": 22,
   "metadata": {},
   "outputs": [
    {
     "name": "stdout",
     "output_type": "stream",
     "text": [
      "<class 'pandas.core.frame.DataFrame'>\n",
      "Index: 19583 entries, 0 to 19658\n",
      "Data columns (total 9 columns):\n",
      " #   Column               Non-Null Count  Dtype  \n",
      "---  ------               --------------  -----  \n",
      " 0   fecha_fabricacion    19583 non-null  object \n",
      " 1   articulo             19583 non-null  object \n",
      " 2   lote_articulo        19583 non-null  object \n",
      " 3   unidades_fabricadas  19583 non-null  float64\n",
      " 4   componente           19583 non-null  object \n",
      " 5   lote_componente      19583 non-null  object \n",
      " 6   consumo_unitario     19583 non-null  float64\n",
      " 7   consumo_total        19583 non-null  float64\n",
      " 8   id_orden             19583 non-null  object \n",
      "dtypes: float64(3), object(6)\n",
      "memory usage: 1.5+ MB\n"
     ]
    }
   ],
   "source": [
    "fabricaciones.info()"
   ]
  },
  {
   "cell_type": "code",
   "execution_count": 23,
   "metadata": {},
   "outputs": [],
   "source": [
    "fabricaciones.to_csv(clean_path / 'fabricaciones_clean.csv', index=False)"
   ]
  }
 ],
 "metadata": {
  "kernelspec": {
   "display_name": ".venv",
   "language": "python",
   "name": "python3"
  },
  "language_info": {
   "codemirror_mode": {
    "name": "ipython",
    "version": 3
   },
   "file_extension": ".py",
   "mimetype": "text/x-python",
   "name": "python",
   "nbconvert_exporter": "python",
   "pygments_lexer": "ipython3",
   "version": "3.9.6"
  }
 },
 "nbformat": 4,
 "nbformat_minor": 2
}
