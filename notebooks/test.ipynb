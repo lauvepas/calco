{
 "cells": [
  {
   "cell_type": "code",
   "execution_count": 1,
   "metadata": {},
   "outputs": [],
   "source": [
    "import sys\n",
    "import os\n",
    "import pandas as pd\n",
    "from pathlib import Path\n"
   ]
  },
  {
   "cell_type": "code",
   "execution_count": 2,
   "metadata": {},
   "outputs": [],
   "source": [
    "# Añadir el directorio src al path de Python\n",
    "src_path = os.path.abspath(os.path.join(os.getcwd(), '..', 'src'))\n",
    "if src_path not in sys.path:\n",
    "    sys.path.append(src_path)\n"
   ]
  },
  {
   "cell_type": "code",
   "execution_count": 3,
   "metadata": {},
   "outputs": [],
   "source": [
    "from calculadora_margen.encoder import Encoder\n",
    "from calculadora_margen.cleaning.cleaner_df import DataFrameCleaner\n",
    "from calculadora_margen.cleaning.params import Parameters\n",
    "from calculadora_margen.cleaning.validador import Validator\n",
    "from calculadora_margen.cleaning.outliers_manager import OutliersManager"
   ]
  },
  {
   "cell_type": "code",
   "execution_count": 4,
   "metadata": {},
   "outputs": [],
   "source": [
    "project_root_path = Path(src_path).parent\n",
    "data_path = project_root_path / 'data'\n",
    "raw_path = data_path / 'raw'\n",
    "clean_path = data_path / 'clean'"
   ]
  },
  {
   "cell_type": "markdown",
   "metadata": {},
   "source": [
    "ETL master_lotes"
   ]
  },
  {
   "cell_type": "code",
   "execution_count": 5,
   "metadata": {},
   "outputs": [],
   "source": [
    "master_lotes = pd.read_csv(raw_path / 'costes.csv',  encoding='UTF-8', sep=';', dtype=str)"
   ]
  },
  {
   "cell_type": "code",
   "execution_count": 6,
   "metadata": {},
   "outputs": [
    {
     "name": "stdout",
     "output_type": "stream",
     "text": [
      "\n",
      "=== SELECCIÓN Y RENOMBRADO DE COLUMNAS ===\n",
      "  columnas_iniciales: 16\n",
      "  columnas_finales: 3\n",
      "  columnas_conservadas: ['Cód. artículo', 'LOTE', 'LOTEINTERNO']\n",
      "  columnas_renombradas: {'Cód. artículo': 'articulo', 'LOTE': 'lote_proveedor', 'LOTEINTERNO': 'lote_componente'}\n",
      "\n",
      "=== ELIMINACIÓN DE DUPLICADOS ===\n",
      "  filas_eliminadas: 70\n",
      "  columnas_consideradas: todas\n",
      "  criterio: mantener_first\n",
      "  Tamaño final del DataFrame: 19256\n",
      "\n",
      "=== ELIMINACIÓN DE VALORES NA ===\n",
      "  filas_eliminadas: 4\n",
      "  columnas_consideradas: ['lote_componente']\n",
      "  Tamaño final del DataFrame: 19252\n",
      "\n",
      "=== CONVERSIÓN A MAYÚSCULAS ===\n",
      "  columnas_procesadas: ['articulo', 'lote_proveedor', 'lote_componente']\n"
     ]
    }
   ],
   "source": [
    "cleaner = DataFrameCleaner(master_lotes)\n",
    "params = Parameters.master_lotes\n",
    "\n",
    "master_lotes = (cleaner\n",
    "    .columns_cleaner.keep_and_rename(params.cols_to_keep, params.rename_map)\n",
    "    .rows_cleaner.drop_duplicates()\n",
    "    .rows_cleaner.drop_na(params.drop_na_subset)\n",
    "    .data_cleaner.to_upper()\n",
    "    .get_df()\n",
    ")"
   ]
  },
  {
   "cell_type": "code",
   "execution_count": 7,
   "metadata": {},
   "outputs": [],
   "source": [
    "validator = Validator(master_lotes)\n",
    "master_lotes = (validator\n",
    "    .validate_with_map(params.validation_map)\n",
    "    .get_df()\n",
    ")"
   ]
  },
  {
   "cell_type": "code",
   "execution_count": 8,
   "metadata": {},
   "outputs": [],
   "source": [
    "# Creamos clave única para poder hacer merge en otros df\n",
    "encoder = Encoder(master_lotes)\n",
    "master_lotes = encoder.create_key(col1='articulo', col2='lote_proveedor', new_col_name='clave_merge')"
   ]
  },
  {
   "cell_type": "code",
   "execution_count": 9,
   "metadata": {},
   "outputs": [
    {
     "data": {
      "text/plain": [
       "np.int64(0)"
      ]
     },
     "execution_count": 9,
     "metadata": {},
     "output_type": "execute_result"
    }
   ],
   "source": [
    "duplicados = master_lotes['clave_merge'].duplicated().sum()\n",
    "duplicados"
   ]
  },
  {
   "cell_type": "code",
   "execution_count": 10,
   "metadata": {},
   "outputs": [
    {
     "data": {
      "text/html": [
       "<div>\n",
       "<style scoped>\n",
       "    .dataframe tbody tr th:only-of-type {\n",
       "        vertical-align: middle;\n",
       "    }\n",
       "\n",
       "    .dataframe tbody tr th {\n",
       "        vertical-align: top;\n",
       "    }\n",
       "\n",
       "    .dataframe thead th {\n",
       "        text-align: right;\n",
       "    }\n",
       "</style>\n",
       "<table border=\"1\" class=\"dataframe\">\n",
       "  <thead>\n",
       "    <tr style=\"text-align: right;\">\n",
       "      <th></th>\n",
       "      <th>articulo</th>\n",
       "      <th>lote_proveedor</th>\n",
       "      <th>lote_componente</th>\n",
       "      <th>clave_merge</th>\n",
       "    </tr>\n",
       "  </thead>\n",
       "  <tbody>\n",
       "    <tr>\n",
       "      <th>963</th>\n",
       "      <td>SEM082</td>\n",
       "      <td>030624</td>\n",
       "      <td>030624</td>\n",
       "      <td>SEM082-030624</td>\n",
       "    </tr>\n",
       "    <tr>\n",
       "      <th>5674</th>\n",
       "      <td>FCAR011</td>\n",
       "      <td>160120</td>\n",
       "      <td>160120</td>\n",
       "      <td>FCAR011-160120</td>\n",
       "    </tr>\n",
       "  </tbody>\n",
       "</table>\n",
       "</div>"
      ],
      "text/plain": [
       "     articulo lote_proveedor lote_componente     clave_merge\n",
       "963    SEM082         030624          030624   SEM082-030624\n",
       "5674  FCAR011         160120          160120  FCAR011-160120"
      ]
     },
     "execution_count": 10,
     "metadata": {},
     "output_type": "execute_result"
    }
   ],
   "source": [
    "master_lotes.sample(2)"
   ]
  },
  {
   "cell_type": "code",
   "execution_count": 11,
   "metadata": {},
   "outputs": [],
   "source": [
    "master_lotes.to_csv(clean_path / 'master_lotes_clean.csv', index=False)"
   ]
  },
  {
   "cell_type": "markdown",
   "metadata": {},
   "source": [
    "ETL costes"
   ]
  },
  {
   "cell_type": "code",
   "execution_count": 12,
   "metadata": {},
   "outputs": [],
   "source": [
    "costes = pd.read_csv(raw_path / 'costes.csv',  encoding='UTF-8', sep=';', dtype=str)"
   ]
  },
  {
   "cell_type": "code",
   "execution_count": 13,
   "metadata": {},
   "outputs": [
    {
     "name": "stdout",
     "output_type": "stream",
     "text": [
      "<class 'pandas.core.frame.DataFrame'>\n",
      "RangeIndex: 19326 entries, 0 to 19325\n",
      "Data columns (total 16 columns):\n",
      " #   Column                   Non-Null Count  Dtype \n",
      "---  ------                   --------------  ----- \n",
      " 0   Cód. almacén estructura  8047 non-null   object\n",
      " 1   DESCALM                  8047 non-null   object\n",
      " 2   Cód. artículo            19326 non-null  object\n",
      " 3   Artículo                 19326 non-null  object\n",
      " 4   FECDOC                   8047 non-null   object\n",
      " 5   LOTE                     19326 non-null  object\n",
      " 6   FECCADUC                 8047 non-null   object\n",
      " 7   LOTEINTERNO              19322 non-null  object\n",
      " 8   UNIDADES                 8047 non-null   object\n",
      " 9   PRCMONEDA                8047 non-null   object\n",
      " 10  % descuento 1            8047 non-null   object\n",
      " 11  TIPDOC                   8047 non-null   object\n",
      " 12  NUMDOC                   8047 non-null   object\n",
      " 13  REFERENCIA               8043 non-null   object\n",
      " 14  Cód. proveedor           8047 non-null   object\n",
      " 15  NOMPRO                   8047 non-null   object\n",
      "dtypes: object(16)\n",
      "memory usage: 2.4+ MB\n"
     ]
    }
   ],
   "source": [
    "costes.info()"
   ]
  },
  {
   "cell_type": "code",
   "execution_count": 14,
   "metadata": {},
   "outputs": [
    {
     "name": "stdout",
     "output_type": "stream",
     "text": [
      "\n",
      "=== ELIMINACIÓN DE VALORES NA ===\n",
      "  filas_eliminadas: 11279\n",
      "  columnas_consideradas: ['PRCMONEDA']\n",
      "  Tamaño final del DataFrame: 8047\n",
      "\n",
      "=== ELIMINACIÓN DE DUPLICADOS ===\n",
      "  filas_eliminadas: 1\n",
      "  columnas_consideradas: todas\n",
      "  criterio: mantener_first\n",
      "  Tamaño final del DataFrame: 8046\n",
      "\n",
      "=== SELECCIÓN Y RENOMBRADO DE COLUMNAS ===\n",
      "  columnas_iniciales: 16\n",
      "  columnas_finales: 3\n",
      "  columnas_conservadas: ['Cód. artículo', 'PRCMONEDA', 'LOTEINTERNO']\n",
      "  columnas_renombradas: {'Cód. artículo': 'componente', 'PRCMONEDA': 'coste_componente_unitario', 'LOTEINTERNO': 'lote_componente'}\n",
      "\n",
      "=== CORRECCIÓN DE FORMATO NUMÉRICO ===\n",
      "  columnas_procesadas: ['coste_componente_unitario']\n",
      "\n",
      "=== ELIMINACIÓN DE DUPLICADOS POR LOTE ===\n",
      "  columna: lote_componente\n",
      "  filas_eliminadas: 46\n",
      "  Tamaño final del DataFrame: 8000\n",
      "\n",
      "=== CONVERSIÓN A MAYÚSCULAS ===\n",
      "  columnas_procesadas: ['componente', 'lote_componente']\n"
     ]
    }
   ],
   "source": [
    "cleaner = DataFrameCleaner(costes)\n",
    "params = Parameters.costes\n",
    "\n",
    "costes = (cleaner\n",
    "    .rows_cleaner.drop_na(params.drop_na_subset)\n",
    "    .rows_cleaner.drop_duplicates()\n",
    "    .columns_cleaner.keep_and_rename(params.cols_to_keep, params.rename_map)\n",
    "    .data_cleaner.fix_numeric_format(params.cols_to_float)\n",
    "    .rows_cleaner.drop_duplicates_batch(params.drop_duplicates_subset)\n",
    "    .data_cleaner.to_upper()\n",
    "    .get_df()\n",
    ")"
   ]
  },
  {
   "cell_type": "code",
   "execution_count": 15,
   "metadata": {},
   "outputs": [
    {
     "name": "stdout",
     "output_type": "stream",
     "text": [
      "\n",
      "=== RESUMEN DE VALIDACIÓN ===\n",
      "Tamaño inicial del DataFrame: 8000\n",
      "\n",
      "Filas inválidas por columna:\n",
      "  - componente: 1 filas\n",
      "  - lote_componente: 21 filas\n",
      "\n",
      "Tamaño final del DataFrame: 7978\n",
      "Total filas eliminadas: 22\n"
     ]
    }
   ],
   "source": [
    "validator = Validator(costes)\n",
    "\n",
    "costes = (validator\n",
    "    .validate_with_map(params.validation_map)\n",
    "    .get_df()\n",
    ")"
   ]
  },
  {
   "cell_type": "code",
   "execution_count": 16,
   "metadata": {},
   "outputs": [],
   "source": [
    "# Ver las filas inválidas para una columna específica\n",
    "#invalid_rows = validator.get_invalid('lote_interno')\n",
    "#print(invalid_rows.head(10))"
   ]
  },
  {
   "cell_type": "code",
   "execution_count": 17,
   "metadata": {},
   "outputs": [
    {
     "name": "stdout",
     "output_type": "stream",
     "text": [
      "\n",
      "=== RESUMEN DE OUTLIERS ===\n",
      "Outliers detectados inicialmente: 71\n",
      "Outliers reemplazados por la media: 66\n",
      "Outliers restantes: 5\n"
     ]
    }
   ],
   "source": [
    "outliers_manager = OutliersManager(costes)\n",
    "\n",
    "costes = (outliers_manager\n",
    "    .process_outliers()\n",
    "    .clean_columns()\n",
    "    .get_df()\n",
    ")"
   ]
  },
  {
   "cell_type": "code",
   "execution_count": 18,
   "metadata": {},
   "outputs": [],
   "source": [
    "costes.to_csv(clean_path / 'costes_clean.csv', index=False)"
   ]
  },
  {
   "cell_type": "code",
   "execution_count": 19,
   "metadata": {},
   "outputs": [
    {
     "name": "stdout",
     "output_type": "stream",
     "text": [
      "<class 'pandas.core.frame.DataFrame'>\n",
      "RangeIndex: 7978 entries, 0 to 7977\n",
      "Data columns (total 3 columns):\n",
      " #   Column                     Non-Null Count  Dtype  \n",
      "---  ------                     --------------  -----  \n",
      " 0   coste_componente_unitario  7978 non-null   float64\n",
      " 1   lote_componente            7978 non-null   object \n",
      " 2   componente                 7978 non-null   object \n",
      "dtypes: float64(1), object(2)\n",
      "memory usage: 187.1+ KB\n"
     ]
    }
   ],
   "source": [
    "costes.info()"
   ]
  },
  {
   "cell_type": "markdown",
   "metadata": {},
   "source": [
    "ETL fabricaciones"
   ]
  },
  {
   "cell_type": "code",
   "execution_count": 20,
   "metadata": {},
   "outputs": [],
   "source": [
    "fabricaciones = pd.read_csv(raw_path / 'fabricaciones_2025.csv',  encoding='UTF-8', sep=';', dtype=str)"
   ]
  },
  {
   "cell_type": "code",
   "execution_count": 21,
   "metadata": {},
   "outputs": [],
   "source": [
    "# No queremos trabajar con lote_componente_proveedor, unimos a master_lotes para obtener lote_componente\n",
    "encoder = Encoder(fabricaciones)\n",
    "\n",
    "fabricaciones = encoder.create_key(col1='Componente', col2='Lote Componente', new_col_name='clave_merge')\n",
    "fabricaciones = fabricaciones.merge(master_lotes, on=\"clave_merge\", how=\"left\")"
   ]
  },
  {
   "cell_type": "code",
   "execution_count": 22,
   "metadata": {},
   "outputs": [
    {
     "name": "stdout",
     "output_type": "stream",
     "text": [
      "\n",
      "=== ELIMINACIÓN DE DUPLICADOS ===\n",
      "  filas_eliminadas: 0\n",
      "  columnas_consideradas: todas\n",
      "  criterio: mantener_first\n",
      "  Tamaño final del DataFrame: 19659\n",
      "\n",
      "=== SELECCIÓN Y RENOMBRADO DE COLUMNAS ===\n",
      "  columnas_iniciales: 21\n",
      "  columnas_finales: 9\n",
      "  columnas_conservadas: ['Fecha Recepción', 'Producto', 'Lote Producto', 'Unidades Fabricadas', 'Componente', 'lote_componente', 'Consumo Unitario', 'Consumo Total', 'Nº Orden']\n",
      "  columnas_renombradas: {'Fecha Recepción': 'fecha_fabricacion', 'Producto': 'articulo', 'Lote Producto': 'lote_articulo', 'Componente': 'componente', 'Consumo Unitario': 'consumo_unitario', 'Consumo Total': 'consumo_total', 'Unidades Fabricadas': 'unidades_fabricadas', 'Nº Orden': 'id_orden'}\n",
      "\n",
      "=== CORRECCIÓN DE FORMATO NUMÉRICO ===\n",
      "  columnas_procesadas: ['unidades_fabricadas', 'consumo_unitario', 'consumo_total']\n",
      "\n",
      "=== ELIMINACIÓN DE VALORES NA ===\n",
      "  filas_eliminadas: 76\n",
      "  columnas_consideradas: ['lote_articulo', 'lote_componente']\n",
      "  Tamaño final del DataFrame: 19583\n",
      "\n",
      "=== CONVERSIÓN A MAYÚSCULAS ===\n",
      "  columnas_procesadas: ['fecha_fabricacion', 'articulo', 'lote_articulo', 'componente', 'lote_componente', 'id_orden']\n"
     ]
    }
   ],
   "source": [
    "cleaner = DataFrameCleaner(fabricaciones)\n",
    "params = Parameters.fabricaciones\n",
    "\n",
    "fabricaciones = (cleaner\n",
    "    .rows_cleaner.drop_duplicates()\n",
    "    .columns_cleaner.keep_and_rename(params.cols_to_keep, params.rename_map)\n",
    "    .data_cleaner.fix_numeric_format(params.cols_to_float)\n",
    "    .rows_cleaner.drop_na(params.drop_na_subset)\n",
    "    .data_cleaner.to_upper()\n",
    "    .get_df()\n",
    ")"
   ]
  },
  {
   "cell_type": "code",
   "execution_count": 23,
   "metadata": {},
   "outputs": [
    {
     "name": "stdout",
     "output_type": "stream",
     "text": [
      "\n",
      "=== RESUMEN DE VALIDACIÓN ===\n",
      "Tamaño inicial del DataFrame: 19583\n",
      "\n",
      "Filas inválidas por columna:\n",
      "  - articulo: 0 filas\n",
      "  - componente: 0 filas\n",
      "\n",
      "Tamaño final del DataFrame: 19583\n",
      "Total filas eliminadas: 0\n"
     ]
    }
   ],
   "source": [
    "validator = Validator(fabricaciones)\n",
    "fabricaciones = (validator\n",
    "    .validate_with_map(params.validation_map)\n",
    "    .get_df()\n",
    ")"
   ]
  },
  {
   "cell_type": "code",
   "execution_count": 24,
   "metadata": {},
   "outputs": [
    {
     "name": "stdout",
     "output_type": "stream",
     "text": [
      "<class 'pandas.core.frame.DataFrame'>\n",
      "Index: 19583 entries, 0 to 19658\n",
      "Data columns (total 9 columns):\n",
      " #   Column               Non-Null Count  Dtype  \n",
      "---  ------               --------------  -----  \n",
      " 0   fecha_fabricacion    19583 non-null  object \n",
      " 1   articulo             19583 non-null  object \n",
      " 2   lote_articulo        19583 non-null  object \n",
      " 3   unidades_fabricadas  19583 non-null  float64\n",
      " 4   componente           19583 non-null  object \n",
      " 5   lote_componente      19583 non-null  object \n",
      " 6   consumo_unitario     19583 non-null  float64\n",
      " 7   consumo_total        19583 non-null  float64\n",
      " 8   id_orden             19583 non-null  object \n",
      "dtypes: float64(3), object(6)\n",
      "memory usage: 1.5+ MB\n"
     ]
    }
   ],
   "source": [
    "fabricaciones.info()"
   ]
  },
  {
   "cell_type": "code",
   "execution_count": 25,
   "metadata": {},
   "outputs": [],
   "source": [
    "fabricaciones.to_csv(clean_path / 'fabricaciones_clean.csv', index=False)"
   ]
  },
  {
   "cell_type": "code",
   "execution_count": 26,
   "metadata": {},
   "outputs": [],
   "source": [
    "master_articulos = pd.read_csv(raw_path / 'master_articulos.csv',  encoding='UTF-8', sep=';', dtype=str)"
   ]
  }
 ],
 "metadata": {
  "kernelspec": {
   "display_name": "Python 3",
   "language": "python",
   "name": "python3"
  },
  "language_info": {
   "codemirror_mode": {
    "name": "ipython",
    "version": 3
   },
   "file_extension": ".py",
   "mimetype": "text/x-python",
   "name": "python",
   "nbconvert_exporter": "python",
   "pygments_lexer": "ipython3",
   "version": "3.13.0"
  }
 },
 "nbformat": 4,
 "nbformat_minor": 2
}
