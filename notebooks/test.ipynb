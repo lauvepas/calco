{
 "cells": [
  {
   "cell_type": "markdown",
   "metadata": {},
   "source": [
    "Introducción\n",
    "\n",
    "A través de este notebook podemos conocer todos los módulos del paquete. \n",
    "Toda la configuración está almacenada en config/parameters, siendo este módulo un ejecutable, preparado para limpiar y conocer la información de las fuentes de datos que se trabajan.\n",
    "Se va a trabajar con dos csv: costes y fabricaciones. El objetivo es limpiar, transformar y hacer manejables las dos fuentes, y combinarlas para poder extraer los costes de fabricación para cada artículo. "
   ]
  },
  {
   "cell_type": "code",
   "execution_count": 1,
   "metadata": {},
   "outputs": [],
   "source": [
    "import sys\n",
    "import os\n",
    "import pandas as pd\n",
    "from pathlib import Path"
   ]
  },
  {
   "cell_type": "code",
   "execution_count": 2,
   "metadata": {},
   "outputs": [],
   "source": [
    "# Add the src directory to the Python path\n",
    "src_path = os.path.abspath(os.path.join(os.getcwd(), '..', 'src'))\n",
    "if src_path not in sys.path:\n",
    "    sys.path.append(src_path)"
   ]
  },
  {
   "cell_type": "code",
   "execution_count": 3,
   "metadata": {},
   "outputs": [],
   "source": [
    "from calculadora_costes.cleaning.cleaner_df import DataFrameCleaner\n",
    "from calculadora_costes.config.parameters import Parameters\n",
    "from calculadora_costes.services.validator import Validator\n",
    "from calculadora_costes.services.outliers_manager import OutliersManager\n",
    "from calculadora_costes.services.cost_calculator import CostCalculator\n",
    "from calculadora_costes.services.encoder import Encoder\n",
    "from calculadora_costes.services import VisualizationManager\n",
    "from calculadora_costes.services.visualizations_manager import VisualizationError"
   ]
  },
  {
   "cell_type": "code",
   "execution_count": 4,
   "metadata": {},
   "outputs": [],
   "source": [
    "project_root_path = Path(src_path).parent\n",
    "data_path = project_root_path / 'data'\n",
    "raw_path = data_path / 'raw'\n",
    "clean_path = data_path / 'clean'"
   ]
  },
  {
   "cell_type": "markdown",
   "metadata": {},
   "source": [
    "ETL master_lotes"
   ]
  },
  {
   "cell_type": "markdown",
   "metadata": {},
   "source": [
    "costes.csv se exporta directamente del ERP y contiene información de todas las compras que se han hecho en la empresa. Por lo tanto, hay registros de todos los precios de compra, asociados a un articulo/ componente y un lote. \n",
    "\n",
    "Principalmente el uso de este DataFrame - master_lotes - es poder identificar los registros de los componentes y crear claves únicas con la que poder unir varios Dataframes.\n",
    "\n",
    "master_lotes tiene por finalidad ser un listado ordenado y limpio con iformación de todos los lotes que existen dentro de la empresa (de artículos de compra, de venta, auxiliares, etc). Cada lote_interno va a asociado a su articulo y a su lote_proveedor. \n",
    "\n",
    "Esto es porque aunque la empresa trabaja siempre con lote_interno, hay algunos listados que el ERP solo es capaz de extraer con lote_proveedor.  "
   ]
  },
  {
   "cell_type": "code",
   "execution_count": 5,
   "metadata": {},
   "outputs": [],
   "source": [
    "# Data extraction using the project root path\n",
    "master_lotes = pd.read_csv(raw_path / 'costes.csv',  encoding='UTF-8', sep=';', dtype=str)"
   ]
  },
  {
   "cell_type": "code",
   "execution_count": 6,
   "metadata": {},
   "outputs": [
    {
     "name": "stdout",
     "output_type": "stream",
     "text": [
      "<class 'pandas.core.frame.DataFrame'>\n",
      "RangeIndex: 19326 entries, 0 to 19325\n",
      "Data columns (total 16 columns):\n",
      " #   Column                   Non-Null Count  Dtype \n",
      "---  ------                   --------------  ----- \n",
      " 0   Cód. almacén estructura  8047 non-null   object\n",
      " 1   DESCALM                  8047 non-null   object\n",
      " 2   Cód. artículo            19326 non-null  object\n",
      " 3   Artículo                 0 non-null      object\n",
      " 4   FECDOC                   8047 non-null   object\n",
      " 5   LOTE                     19326 non-null  object\n",
      " 6   FECCADUC                 8047 non-null   object\n",
      " 7   LOTEINTERNO              19322 non-null  object\n",
      " 8   UNIDADES                 8047 non-null   object\n",
      " 9   PRCMONEDA                8047 non-null   object\n",
      " 10  % descuento 1            8047 non-null   object\n",
      " 11  TIPDOC                   8047 non-null   object\n",
      " 12  NUMDOC                   8047 non-null   object\n",
      " 13  REFERENCIA               8043 non-null   object\n",
      " 14  Cód. proveedor           8047 non-null   object\n",
      " 15  NOMPRO                   0 non-null      object\n",
      "dtypes: object(16)\n",
      "memory usage: 2.4+ MB\n"
     ]
    }
   ],
   "source": [
    "# Data visualization\n",
    "master_lotes.info()"
   ]
  },
  {
   "cell_type": "markdown",
   "metadata": {},
   "source": [
    "DataFrameCleaner es el primer módulo del paquete. Su objetivo es limpiar los datos: elimminar columnas, renombrar, eliminar nulos, duplicados, y devolver de nuevo el DataFrame master_lotes\n",
    "\n",
    "Los parámetros de las funciones están definidos en config/parameter"
   ]
  },
  {
   "cell_type": "code",
   "execution_count": 7,
   "metadata": {},
   "outputs": [],
   "source": [
    "cleaner = DataFrameCleaner(master_lotes)\n",
    "params = Parameters.master_lotes\n",
    "\n",
    "master_lotes = (cleaner\n",
    "    .columns_cleaner.keep_and_rename(params.cols_to_keep, params.rename_map)\n",
    "    .rows_cleaner.drop_duplicates()\n",
    "    .rows_cleaner.drop_na(params.drop_na_subset)\n",
    "    .data_cleaner.to_upper()\n",
    "    .get_df()\n",
    ")"
   ]
  },
  {
   "cell_type": "markdown",
   "metadata": {},
   "source": [
    "Tras ejecutar la función cleaner, nos queda el siguiente DataFrame, con 3 columnas y ningún nulo:"
   ]
  },
  {
   "cell_type": "code",
   "execution_count": 8,
   "metadata": {},
   "outputs": [
    {
     "name": "stdout",
     "output_type": "stream",
     "text": [
      "<class 'pandas.core.frame.DataFrame'>\n",
      "Index: 19252 entries, 4 to 19325\n",
      "Data columns (total 3 columns):\n",
      " #   Column           Non-Null Count  Dtype \n",
      "---  ------           --------------  ----- \n",
      " 0   articulo         19252 non-null  object\n",
      " 1   lote_proveedor   19252 non-null  object\n",
      " 2   lote_componente  19252 non-null  object\n",
      "dtypes: object(3)\n",
      "memory usage: 601.6+ KB\n"
     ]
    }
   ],
   "source": [
    "master_lotes.info()"
   ]
  },
  {
   "cell_type": "markdown",
   "metadata": {},
   "source": [
    "Para continuar con la limpieza, debemos asegurarnos que tanto los códigos de artículo como los lotes internos están correctamente definidos.\n",
    "Para ellos usamos la función validate_with_map() que trabaja con regex para comprobar que los patrones son correctos.\n",
    "\n",
    "Los parámetros también están definidos en config/params.\n",
    "\n",
    "La clase Validator contiene una función privada que devuelve información de las filas eliminadas en caso de que existan. \n",
    "También contiene una función get_invalid() para poder explorar qué filas está reconociendo como inválidas-"
   ]
  },
  {
   "cell_type": "code",
   "execution_count": 9,
   "metadata": {},
   "outputs": [],
   "source": [
    "validator = Validator(master_lotes)\n",
    "master_lotes = (validator\n",
    "    .validate_with_map(params.validation_map)\n",
    "    .get_df()\n",
    ")"
   ]
  },
  {
   "cell_type": "markdown",
   "metadata": {},
   "source": [
    "Usamos otro módulo de services, en esta caso una pequeña utilidad para crear códigos únicos concatenando dos columnas del df.\n",
    "En este caso usamos 'articulo' y 'lote_proveedor' y lo llamamos clave_merge, porque esta será su utilidad."
   ]
  },
  {
   "cell_type": "code",
   "execution_count": 10,
   "metadata": {},
   "outputs": [],
   "source": [
    "encoder = Encoder(master_lotes)\n",
    "master_lotes = encoder.create_key(col1='articulo', col2='lote_proveedor', new_col_name='clave_merge')"
   ]
  },
  {
   "cell_type": "code",
   "execution_count": 11,
   "metadata": {},
   "outputs": [
    {
     "data": {
      "text/plain": [
       "np.int64(0)"
      ]
     },
     "execution_count": 11,
     "metadata": {},
     "output_type": "execute_result"
    }
   ],
   "source": [
    "# Check that there are no duplicates\n",
    "duplicados = master_lotes['clave_merge'].duplicated().sum()\n",
    "duplicados"
   ]
  },
  {
   "cell_type": "markdown",
   "metadata": {},
   "source": [
    "Esta la forma final del DataFrame master_lotes, ya podemos exportar como master_lotes_clean.csv"
   ]
  },
  {
   "cell_type": "code",
   "execution_count": 12,
   "metadata": {},
   "outputs": [
    {
     "data": {
      "text/html": [
       "<div>\n",
       "<style scoped>\n",
       "    .dataframe tbody tr th:only-of-type {\n",
       "        vertical-align: middle;\n",
       "    }\n",
       "\n",
       "    .dataframe tbody tr th {\n",
       "        vertical-align: top;\n",
       "    }\n",
       "\n",
       "    .dataframe thead th {\n",
       "        text-align: right;\n",
       "    }\n",
       "</style>\n",
       "<table border=\"1\" class=\"dataframe\">\n",
       "  <thead>\n",
       "    <tr style=\"text-align: right;\">\n",
       "      <th></th>\n",
       "      <th>articulo</th>\n",
       "      <th>lote_proveedor</th>\n",
       "      <th>lote_componente</th>\n",
       "      <th>clave_merge</th>\n",
       "    </tr>\n",
       "  </thead>\n",
       "  <tbody>\n",
       "    <tr>\n",
       "      <th>13783</th>\n",
       "      <td>MAT269</td>\n",
       "      <td>1205227</td>\n",
       "      <td>2306-088</td>\n",
       "      <td>MAT269-1205227</td>\n",
       "    </tr>\n",
       "    <tr>\n",
       "      <th>5271</th>\n",
       "      <td>SEM005</td>\n",
       "      <td>141219</td>\n",
       "      <td>141219</td>\n",
       "      <td>SEM005-141219</td>\n",
       "    </tr>\n",
       "  </tbody>\n",
       "</table>\n",
       "</div>"
      ],
      "text/plain": [
       "      articulo lote_proveedor lote_componente     clave_merge\n",
       "13783   MAT269        1205227        2306-088  MAT269-1205227\n",
       "5271    SEM005         141219          141219   SEM005-141219"
      ]
     },
     "execution_count": 12,
     "metadata": {},
     "output_type": "execute_result"
    }
   ],
   "source": [
    "master_lotes.sample(2)"
   ]
  },
  {
   "cell_type": "code",
   "execution_count": 13,
   "metadata": {},
   "outputs": [],
   "source": [
    "master_lotes.to_csv(clean_path / 'master_lotes_clean.csv', index=False)"
   ]
  },
  {
   "cell_type": "markdown",
   "metadata": {},
   "source": [
    "ETL costes"
   ]
  },
  {
   "cell_type": "markdown",
   "metadata": {},
   "source": [
    "El segundo DataFrame que queremos obtener es costes. Costes debe contener información de todas las compras de componentes que se han realizado, con información del componente, el lote asociado a dicho componente y su precio de compra. "
   ]
  },
  {
   "cell_type": "code",
   "execution_count": 14,
   "metadata": {},
   "outputs": [],
   "source": [
    "costes = pd.read_csv(raw_path / 'costes.csv',  encoding='UTF-8', sep=';', dtype=str)"
   ]
  },
  {
   "cell_type": "code",
   "execution_count": 15,
   "metadata": {},
   "outputs": [
    {
     "name": "stdout",
     "output_type": "stream",
     "text": [
      "<class 'pandas.core.frame.DataFrame'>\n",
      "RangeIndex: 19326 entries, 0 to 19325\n",
      "Data columns (total 16 columns):\n",
      " #   Column                   Non-Null Count  Dtype \n",
      "---  ------                   --------------  ----- \n",
      " 0   Cód. almacén estructura  8047 non-null   object\n",
      " 1   DESCALM                  8047 non-null   object\n",
      " 2   Cód. artículo            19326 non-null  object\n",
      " 3   Artículo                 0 non-null      object\n",
      " 4   FECDOC                   8047 non-null   object\n",
      " 5   LOTE                     19326 non-null  object\n",
      " 6   FECCADUC                 8047 non-null   object\n",
      " 7   LOTEINTERNO              19322 non-null  object\n",
      " 8   UNIDADES                 8047 non-null   object\n",
      " 9   PRCMONEDA                8047 non-null   object\n",
      " 10  % descuento 1            8047 non-null   object\n",
      " 11  TIPDOC                   8047 non-null   object\n",
      " 12  NUMDOC                   8047 non-null   object\n",
      " 13  REFERENCIA               8043 non-null   object\n",
      " 14  Cód. proveedor           8047 non-null   object\n",
      " 15  NOMPRO                   0 non-null      object\n",
      "dtypes: object(16)\n",
      "memory usage: 2.4+ MB\n"
     ]
    }
   ],
   "source": [
    "costes.info()"
   ]
  },
  {
   "cell_type": "markdown",
   "metadata": {},
   "source": [
    "Volvemos a ejecutar DataFrameCleaner de la misma forma que en el caso anterior. Como cada df tiene sus parámetros propios asociados, no hay que cambiar nada, solo volver a llamar la clase y a las funciones del cleaner que nos interesen."
   ]
  },
  {
   "cell_type": "code",
   "execution_count": 16,
   "metadata": {},
   "outputs": [],
   "source": [
    "cleaner = DataFrameCleaner(costes)\n",
    "params = Parameters.costes\n",
    "\n",
    "costes = (cleaner\n",
    "    .rows_cleaner.drop_na(params.drop_na_subset)\n",
    "    .rows_cleaner.drop_duplicates()\n",
    "    .columns_cleaner.keep_and_rename(params.cols_to_keep, params.rename_map)\n",
    "    .data_cleaner.fix_numeric_format(params.cols_to_float)\n",
    "    .rows_cleaner.drop_duplicates_batch(params.drop_duplicates_subset)\n",
    "    .data_cleaner.to_upper()\n",
    "    .get_df()\n",
    ")"
   ]
  },
  {
   "cell_type": "markdown",
   "metadata": {},
   "source": [
    "Hacemos de nuevo uso del validador. En este caso sí que hay códigos de componentes y lotes mal definidos, por tanto nos devuelve un resumen de los cambios. En caso de que quisiéarmos conocer qué filas ha eliminado, podríamos ejecutar .get_invalid()"
   ]
  },
  {
   "cell_type": "code",
   "execution_count": 17,
   "metadata": {},
   "outputs": [
    {
     "name": "stdout",
     "output_type": "stream",
     "text": [
      "\n",
      "=== RESUMEN DE VALIDACIÓN ===\n",
      "Tamaño inicial del DataFrame: 8000\n",
      "\n",
      "Filas inválidas por columna:\n",
      "  - componente: 1 filas\n",
      "  - lote_componente: 21 filas\n",
      "\n",
      "Tamaño final del DataFrame: 7978\n",
      "Total filas eliminadas: 22\n"
     ]
    }
   ],
   "source": [
    "validator = Validator(costes)\n",
    "\n",
    "costes = (validator\n",
    "    .validate_with_map(params.validation_map)\n",
    "    .get_df()\n",
    ")"
   ]
  },
  {
   "cell_type": "code",
   "execution_count": 18,
   "metadata": {},
   "outputs": [],
   "source": [
    "#invalid_rows = validator.get_invalid('lote_interno')\n",
    "#print(invalid_rows.head(10))"
   ]
  },
  {
   "cell_type": "markdown",
   "metadata": {},
   "source": [
    "También dentro de services tenemos la clase outliers_manager. Esta clase se encarga de buscar outliers en columnas numéricas (elegidas en Parameters) y sustituirlos por la media de su grupo. \n",
    "\n",
    "La forma de detectar outliers es asociar a cada un registro un 'z_score' basado en lo que cuántas desviaciones típicas se desvía el registro de la media del grupo. Los grupos son todas las compras de ese componente.\n",
    "\n",
    "Tanto el nivel del z_score como las 'vueltas' que queremos que de la función para pulir los outliers está también definido en parameters.\n",
    "\n",
    "En este caso también nos devuelve un resumen de los outliers encontrados y corregidos. Podríamos ampliar este informe usando .process_outliers(verbose = True) sin emabargo en este caso es suficiente con el resumen."
   ]
  },
  {
   "cell_type": "code",
   "execution_count": 19,
   "metadata": {},
   "outputs": [
    {
     "name": "stdout",
     "output_type": "stream",
     "text": [
      "\n",
      "=== RESUMEN DE OUTLIERS ===\n",
      "Outliers detectados inicialmente: 71\n",
      "Outliers reemplazados por la media: 66\n",
      "Outliers restantes: 5\n"
     ]
    }
   ],
   "source": [
    "outliers_manager = OutliersManager(costes, Parameters.costes)\n",
    "costes_procesados = (outliers_manager\n",
    "    .process_outliers()\n",
    "    .clean_columns()\n",
    "    .get_df()\n",
    ")"
   ]
  },
  {
   "cell_type": "markdown",
   "metadata": {},
   "source": [
    "Tras la limpieza, nos queda un df libre de outliers y de nulos. De esta forma nos aseguramos que todos los artículos tienen un lote_interno y un coste asociado.\n",
    "\n",
    "Por lo tanto, podemos exportarlo para usar externamente y es seguro combinarlo con otros dataframes."
   ]
  },
  {
   "cell_type": "code",
   "execution_count": 20,
   "metadata": {},
   "outputs": [
    {
     "name": "stdout",
     "output_type": "stream",
     "text": [
      "<class 'pandas.core.frame.DataFrame'>\n",
      "Index: 7978 entries, 6788 to 17055\n",
      "Data columns (total 3 columns):\n",
      " #   Column                     Non-Null Count  Dtype  \n",
      "---  ------                     --------------  -----  \n",
      " 0   componente                 7978 non-null   object \n",
      " 1   coste_componente_unitario  7978 non-null   float64\n",
      " 2   lote_componente            7978 non-null   object \n",
      "dtypes: float64(1), object(2)\n",
      "memory usage: 249.3+ KB\n"
     ]
    }
   ],
   "source": [
    "costes.info()"
   ]
  },
  {
   "cell_type": "code",
   "execution_count": 21,
   "metadata": {},
   "outputs": [
    {
     "data": {
      "text/html": [
       "<div>\n",
       "<style scoped>\n",
       "    .dataframe tbody tr th:only-of-type {\n",
       "        vertical-align: middle;\n",
       "    }\n",
       "\n",
       "    .dataframe tbody tr th {\n",
       "        vertical-align: top;\n",
       "    }\n",
       "\n",
       "    .dataframe thead th {\n",
       "        text-align: right;\n",
       "    }\n",
       "</style>\n",
       "<table border=\"1\" class=\"dataframe\">\n",
       "  <thead>\n",
       "    <tr style=\"text-align: right;\">\n",
       "      <th></th>\n",
       "      <th>componente</th>\n",
       "      <th>coste_componente_unitario</th>\n",
       "      <th>lote_componente</th>\n",
       "    </tr>\n",
       "  </thead>\n",
       "  <tbody>\n",
       "    <tr>\n",
       "      <th>11295</th>\n",
       "      <td>MAT300</td>\n",
       "      <td>0.70</td>\n",
       "      <td>2202-147</td>\n",
       "    </tr>\n",
       "    <tr>\n",
       "      <th>16960</th>\n",
       "      <td>FCRO004</td>\n",
       "      <td>29.28</td>\n",
       "      <td>2503-141</td>\n",
       "    </tr>\n",
       "  </tbody>\n",
       "</table>\n",
       "</div>"
      ],
      "text/plain": [
       "      componente  coste_componente_unitario lote_componente\n",
       "11295     MAT300                       0.70        2202-147\n",
       "16960    FCRO004                      29.28        2503-141"
      ]
     },
     "execution_count": 21,
     "metadata": {},
     "output_type": "execute_result"
    }
   ],
   "source": [
    "costes.sample(2)"
   ]
  },
  {
   "cell_type": "code",
   "execution_count": 22,
   "metadata": {},
   "outputs": [],
   "source": [
    "costes.to_csv(clean_path / 'costes_clean.csv', index=False)"
   ]
  },
  {
   "cell_type": "markdown",
   "metadata": {},
   "source": [
    "ETL fabricaciones"
   ]
  },
  {
   "cell_type": "markdown",
   "metadata": {},
   "source": [
    "El csv de fabricaciones contiene información de todas las fabricaciones que se han realizado en 2024 y 2025 en la empresa. Cada fabricación tiene un número de orden, una fecha y todos los componentes que se han usado para fabricarlo. \n",
    "\n",
    "El objetivo de esta transformación es obtener un dataframe con el coste de todas las fabricaciones y a partir de él realizar análisis. \n",
    "Por ejemplo, la evolución de costes de determinados productos en el tiempo, comparación de precio por artículos, etc."
   ]
  },
  {
   "cell_type": "code",
   "execution_count": 23,
   "metadata": {},
   "outputs": [],
   "source": [
    "fabricaciones = pd.read_csv(raw_path / 'fabricaciones.csv',  encoding='UTF-8', sep=';', dtype=str)"
   ]
  },
  {
   "cell_type": "code",
   "execution_count": 24,
   "metadata": {},
   "outputs": [
    {
     "data": {
      "text/html": [
       "<div>\n",
       "<style scoped>\n",
       "    .dataframe tbody tr th:only-of-type {\n",
       "        vertical-align: middle;\n",
       "    }\n",
       "\n",
       "    .dataframe tbody tr th {\n",
       "        vertical-align: top;\n",
       "    }\n",
       "\n",
       "    .dataframe thead th {\n",
       "        text-align: right;\n",
       "    }\n",
       "</style>\n",
       "<table border=\"1\" class=\"dataframe\">\n",
       "  <thead>\n",
       "    <tr style=\"text-align: right;\">\n",
       "      <th></th>\n",
       "      <th>Fecha Recepción</th>\n",
       "      <th>Nº Orden</th>\n",
       "      <th>Producto</th>\n",
       "      <th>Descripción Producto</th>\n",
       "      <th>Lote Producto</th>\n",
       "      <th>Unidades Fabricadas</th>\n",
       "      <th>Componente</th>\n",
       "      <th>Descripción Componente</th>\n",
       "      <th>Lote Componente</th>\n",
       "      <th>Línea</th>\n",
       "      <th>Familia</th>\n",
       "      <th>Consumo Teórico</th>\n",
       "      <th>Total Teórico</th>\n",
       "      <th>Consumo Unitario</th>\n",
       "      <th>Consumo Total</th>\n",
       "      <th>Coste Unitario</th>\n",
       "      <th>Coste Total</th>\n",
       "    </tr>\n",
       "  </thead>\n",
       "  <tbody>\n",
       "    <tr>\n",
       "      <th>7549</th>\n",
       "      <td>18/06/2024</td>\n",
       "      <td>FV-9744</td>\n",
       "      <td>SEM102</td>\n",
       "      <td>NaN</td>\n",
       "      <td>170624</td>\n",
       "      <td>150,00</td>\n",
       "      <td>MAT373</td>\n",
       "      <td>NaN</td>\n",
       "      <td>ALB-BOP2406AV0037</td>\n",
       "      <td>COMPONENTE</td>\n",
       "      <td>MATERIA PRIMA</td>\n",
       "      <td>6,02</td>\n",
       "      <td>902,33</td>\n",
       "      <td>5,16</td>\n",
       "      <td>774,20</td>\n",
       "      <td>5,90</td>\n",
       "      <td>4.567,78</td>\n",
       "    </tr>\n",
       "    <tr>\n",
       "      <th>5394</th>\n",
       "      <td>02/05/2024</td>\n",
       "      <td>FV-9451</td>\n",
       "      <td>SEM095</td>\n",
       "      <td>NaN</td>\n",
       "      <td>300424</td>\n",
       "      <td>2.120,00</td>\n",
       "      <td>MAT339</td>\n",
       "      <td>NaN</td>\n",
       "      <td>130224/060324</td>\n",
       "      <td>COMPONENTE</td>\n",
       "      <td>MATERIA PRIMA</td>\n",
       "      <td>0,03</td>\n",
       "      <td>70,30</td>\n",
       "      <td>0,03</td>\n",
       "      <td>69,09</td>\n",
       "      <td>2,11</td>\n",
       "      <td>145,56</td>\n",
       "    </tr>\n",
       "  </tbody>\n",
       "</table>\n",
       "</div>"
      ],
      "text/plain": [
       "     Fecha Recepción Nº Orden Producto Descripción Producto Lote Producto  \\\n",
       "7549      18/06/2024  FV-9744   SEM102                  NaN        170624   \n",
       "5394      02/05/2024  FV-9451   SEM095                  NaN        300424   \n",
       "\n",
       "     Unidades Fabricadas Componente Descripción Componente    Lote Componente  \\\n",
       "7549              150,00     MAT373                    NaN  ALB-BOP2406AV0037   \n",
       "5394            2.120,00     MAT339                    NaN      130224/060324   \n",
       "\n",
       "           Línea        Familia Consumo Teórico Total Teórico  \\\n",
       "7549  COMPONENTE  MATERIA PRIMA            6,02        902,33   \n",
       "5394  COMPONENTE  MATERIA PRIMA            0,03         70,30   \n",
       "\n",
       "     Consumo Unitario Consumo Total Coste Unitario Coste Total  \n",
       "7549             5,16        774,20           5,90    4.567,78  \n",
       "5394             0,03         69,09           2,11      145,56  "
      ]
     },
     "execution_count": 24,
     "metadata": {},
     "output_type": "execute_result"
    }
   ],
   "source": [
    "fabricaciones.sample(2)"
   ]
  },
  {
   "cell_type": "markdown",
   "metadata": {},
   "source": [
    "Con el siguiente bloque cocatenamos los dos DataFrames que ya teníamos limpios costes y master_lotes para usarlos junto a fabricaciones. "
   ]
  },
  {
   "cell_type": "code",
   "execution_count": 25,
   "metadata": {},
   "outputs": [],
   "source": [
    "# No queremos trabajar con lote_componente_proveedor, unimos a master_lotes para obtener lote_componente\n",
    "fabricaciones = Encoder(fabricaciones).create_key(col1='Componente', col2='Lote Componente', new_col_name='clave_merge')\n",
    "fabricaciones = fabricaciones.merge(master_lotes, on=\"clave_merge\", how=\"left\")\n",
    "\n",
    "# Merge fabricaciones y costes\n",
    "fabricaciones = Encoder(fabricaciones).create_key(col1='articulo', col2='lote_componente', new_col_name='clave_merge')\n",
    "costes = Encoder(costes).create_key(col1='componente', col2='lote_componente', new_col_name='clave_merge')\n",
    "fabricaciones = fabricaciones.merge(costes, on=\"clave_merge\", how=\"left\")\n",
    "\n",
    "# Creamos clave única para usar la función recursiva de costes\n",
    "fabricaciones = Encoder(fabricaciones).create_key(col1='Producto', col2='Lote Producto', new_col_name='clave_unica')"
   ]
  },
  {
   "cell_type": "markdown",
   "metadata": {},
   "source": [
    "Pasamos el cleaner a fabricaciones para limpiarlo."
   ]
  },
  {
   "cell_type": "code",
   "execution_count": 26,
   "metadata": {},
   "outputs": [],
   "source": [
    "cleaner = DataFrameCleaner(fabricaciones)\n",
    "params = Parameters.fabricaciones\n",
    "\n",
    "fabricaciones = (cleaner\n",
    "    .rows_cleaner.drop_duplicates()\n",
    "    .columns_cleaner.keep_and_rename(params.cols_to_keep, params.rename_map)\n",
    "    .data_cleaner.fix_numeric_format(params.cols_to_float)\n",
    "    .data_cleaner.fix_date_format(params.cols_to_date)\n",
    "    .rows_cleaner.drop_na(params.drop_na_subset)\n",
    "    .data_cleaner.to_upper()\n",
    "    .get_df()\n",
    ")"
   ]
  },
  {
   "cell_type": "code",
   "execution_count": 27,
   "metadata": {},
   "outputs": [
    {
     "name": "stdout",
     "output_type": "stream",
     "text": [
      "<class 'pandas.core.frame.DataFrame'>\n",
      "Index: 19580 entries, 0 to 19658\n",
      "Data columns (total 10 columns):\n",
      " #   Column                     Non-Null Count  Dtype         \n",
      "---  ------                     --------------  -----         \n",
      " 0   id_orden                   19580 non-null  object        \n",
      " 1   fecha_fabricacion          19580 non-null  datetime64[ns]\n",
      " 2   articulo                   19580 non-null  object        \n",
      " 3   lote_articulo              19580 non-null  object        \n",
      " 4   unidades_fabricadas        19580 non-null  float64       \n",
      " 5   componente                 19580 non-null  object        \n",
      " 6   lote_componente            19580 non-null  object        \n",
      " 7   coste_componente_unitario  16619 non-null  float64       \n",
      " 8   consumo_unitario           19580 non-null  float64       \n",
      " 9   consumo_total              19580 non-null  float64       \n",
      "dtypes: datetime64[ns](1), float64(4), object(5)\n",
      "memory usage: 1.6+ MB\n"
     ]
    }
   ],
   "source": [
    "fabricaciones.info()"
   ]
  },
  {
   "cell_type": "markdown",
   "metadata": {},
   "source": [
    "Uno de los problemas que presenta fabricaciones y nos impide calcular los costes de forma directa es que algunos articulos fabricados son componentes de otros (a partir de ahora los llamaremos semielaborados). Por lo tanto, no aparecen en el dataframe de costes, ya que recordemos que este recogía solo las compras. \n",
    "Como vemos al ejecutar info(), la columna de coste_componente_unitario es la única con nulos.\n",
    "\n",
    "Para solucionar este problema se ha creado la clase CostCalculator. Esta clase se encarga de ejecutar una función que calcula los costes de forma iterativa. Es decir, primero calcula el coste de las fabricaciones que no se componen de semielaborados (mediante groupby + sum). Una vez tiene este primer batch, rellena los costes de los semielaborados que ha logrado obtener la función. \n",
    "Esta operación se repite hasta que ya no se pueden calcular más costes.\n",
    "\n",
    "La función devuelve información sobre las iteraciones y lo que se está consiguiendo. En este caso, de 2961 nulos conseguimos calcular todos menos 11."
   ]
  },
  {
   "cell_type": "code",
   "execution_count": 28,
   "metadata": {},
   "outputs": [
    {
     "name": "stdout",
     "output_type": "stream",
     "text": [
      "Estado inicial: 2961 registros pendientes de calcular coste\n",
      "\n",
      "Resumen por estado de cálculo:\n",
      "Artículos pendientes: 112\n",
      "Artículos calculados: 37\n",
      "\n",
      "1ª iteración:\n",
      "Registros sin coste: 2961\n",
      "\n",
      "2ª iteración:\n",
      "Registros sin coste: 1635\n",
      "\n",
      "3ª iteración:\n",
      "Registros sin coste: 384\n",
      "\n",
      "4ª iteración:\n",
      "Registros sin coste: 11\n",
      "\n",
      "5ª iteración:\n",
      "Registros sin coste: 11\n",
      "No se pueden calcular más costes.\n",
      "\n",
      "Resumen final:\n",
      "Total registros: 19580\n",
      "Registros sin coste: 11\n",
      "Registros con coste calculado: 19569\n"
     ]
    }
   ],
   "source": [
    "# Create instance of CostCalculator\n",
    "calculador = CostCalculator(fabricaciones)\n",
    "fabricaciones = calculador.calculate_costs_recursively()"
   ]
  },
  {
   "cell_type": "markdown",
   "metadata": {},
   "source": [
    "A partir de esta limpieza logramos obtener dos sets de datos intersantes. Por una parte, tenemos el dataset de fabricaciones, con todos los componentes asociados a una producción, de forma que se pueden explotar datos del tipo: fallos en recetas, incrementos del coste, control de mermas, control de stock.\n",
    "\n",
    "Por lo tanto, guardamos los datos obtenidos tras la limpieza."
   ]
  },
  {
   "cell_type": "code",
   "execution_count": 29,
   "metadata": {},
   "outputs": [],
   "source": [
    "fabricaciones.to_csv(clean_path / 'fabricaciones_clean.csv', index=False)"
   ]
  },
  {
   "cell_type": "markdown",
   "metadata": {},
   "source": [
    "Además, otro set de datos muy interesante es el de las fabricaciones agrupadas por articulo final, sumando el coste por componente. De esta forma, tenemos dataframe con todas las fabricaciones, el coste unitario pos fabricación y la cantidad fabricada. \n",
    "Este set de datos nos permite analizar datos relacionados con los márgenes que deja cada producto al comparalos con el precio de venta, las cantidades por fabricación, en qué productos existen economías de escala, etc.\n",
    "\n",
    "Para extraer este dataframe, volvemos a llamar al CostCalculator porque incluye una función que hace examente eso: extraer costes de fabricación agrupando por fabricación. La función de nos advierte de que faltan costes por calcular (los 11 que habíamos visto antes), pero igualmente procesa los datos y de las má de 19K registros, obtiene 2633 fabricaciones que han tenido lugar entre enero de 2024 y marzo de 2025."
   ]
  },
  {
   "cell_type": "code",
   "execution_count": 30,
   "metadata": {},
   "outputs": [
    {
     "name": "stdout",
     "output_type": "stream",
     "text": [
      "ADVERTENCIA: Hay costes pendientes de calcular. Los resultados pueden ser incompletos.\n",
      "\n",
      "Resumen de costes de fabricación:\n",
      "Total órdenes procesadas: 2633\n",
      "Rango de fechas: 2024-01-02 00:00:00 a 2025-03-28 00:00:00\n"
     ]
    }
   ],
   "source": [
    "# Luego generar el resumen de costes de fabricación\n",
    "costes_fabricacion = calculador.generate_manufacturing_costs()"
   ]
  },
  {
   "cell_type": "markdown",
   "metadata": {},
   "source": [
    "Aprovechamos nuestra función para detectar outliers en las fabricaciones. Estos outliers se tratan en la mayoría de casos de fallos humanos, arreglados a posteriori de forma manual, por lo que es interesante limpiarlos igualmente para los análisis. Sin embargo, en este caso es más interesante obtener el informe completo, para saber qué fabricaciones se salen de la media, para investigar en planta que es lo que pasa."
   ]
  },
  {
   "cell_type": "code",
   "execution_count": 31,
   "metadata": {},
   "outputs": [
    {
     "name": "stdout",
     "output_type": "stream",
     "text": [
      "\n",
      "Analizando outliers por grupo...\n",
      "  - Grupo FCAR002: 1 outliers detectados\n",
      "    Media: 32.71, Std: 8.14\n",
      "    Valores outlier: [1.287639]\n",
      "  - Grupo FCAR008: 1 outliers detectados\n",
      "    Media: 19.57, Std: 1.39\n",
      "    Valores outlier: [25.672071380000002]\n",
      "  - Grupo FCAR011: 1 outliers detectados\n",
      "    Media: 65.90, Std: 0.18\n",
      "    Valores outlier: [66.58847438240001]\n",
      "  - Grupo FCAR015: 1 outliers detectados\n",
      "    Media: 77.05, Std: 0.19\n",
      "    Valores outlier: [76.35320914]\n",
      "  - Grupo FCAR019: 1 outliers detectados\n",
      "    Media: 3.21, Std: 0.17\n",
      "    Valores outlier: [2.2546940965999998]\n",
      "  - Grupo FCAR024: 1 outliers detectados\n",
      "    Media: 68.81, Std: 0.48\n",
      "    Valores outlier: [70.996048112]\n",
      "  - Grupo FCAR046: 1 outliers detectados\n",
      "    Media: 18.22, Std: 0.16\n",
      "    Valores outlier: [18.771051036536]\n",
      "  - Grupo FCAR047: 1 outliers detectados\n",
      "    Media: 19.01, Std: 0.13\n",
      "    Valores outlier: [19.422329774810002]\n",
      "  - Grupo FCAR048: 1 outliers detectados\n",
      "    Media: 58.89, Std: 0.10\n",
      "    Valores outlier: [58.565492150000004]\n",
      "  - Grupo FPER050: 1 outliers detectados\n",
      "    Media: 17.32, Std: 2.03\n",
      "    Valores outlier: [10.07428]\n",
      "  - Grupo FPOS005: 1 outliers detectados\n",
      "    Media: 13.32, Std: 0.47\n",
      "    Valores outlier: [15.847477]\n",
      "  - Grupo FPOS010: 3 outliers detectados\n",
      "    Media: 25.75, Std: 3.16\n",
      "    Valores outlier: [16.120054, 15.457911000000001, 15.633610000000001]\n",
      "  - Grupo FTAR002: 1 outliers detectados\n",
      "    Media: 34.33, Std: 9.84\n",
      "    Valores outlier: [0.34928000000000003]\n",
      "  - Grupo SCRE010: 2 outliers detectados\n",
      "    Media: 1.63, Std: 0.02\n",
      "    Valores outlier: [1.5534301552, 1.5607034175999999]\n",
      "  - Grupo SCRE036: 6 outliers detectados\n",
      "    Media: 0.76, Std: 0.05\n",
      "    Valores outlier: [0.58578258, 0.92399016, 0.5985315800000001, 0.5991265800000001, 0.91814416, 0.59812758]\n",
      "  - Grupo SCRE046: 1 outliers detectados\n",
      "    Media: 0.93, Std: 0.19\n",
      "    Valores outlier: [2.455778948]\n",
      "  - Grupo SCRE047: 1 outliers detectados\n",
      "    Media: 0.61, Std: 0.02\n",
      "    Valores outlier: [0.7467256400000001]\n",
      "  - Grupo SCRE068: 3 outliers detectados\n",
      "    Media: 8.72, Std: 1.04\n",
      "    Valores outlier: [12.006293, 12.570496, 5.519767]\n",
      "  - Grupo SCRE069: 1 outliers detectados\n",
      "    Media: 8.08, Std: 0.11\n",
      "    Valores outlier: [7.473927584600001]\n",
      "  - Grupo SCRE070: 1 outliers detectados\n",
      "    Media: 0.67, Std: 0.08\n",
      "    Valores outlier: [1.11087488]\n",
      "  - Grupo SEM047: 1 outliers detectados\n",
      "    Media: 1.01, Std: 0.22\n",
      "    Valores outlier: [0.049903]\n",
      "  - Grupo SEM085: 1 outliers detectados\n",
      "    Media: 17.29, Std: 1.41\n",
      "    Valores outlier: [10.038228120000001]\n",
      "  - Grupo SEM100: 1 outliers detectados\n",
      "    Media: 7.45, Std: 0.80\n",
      "    Valores outlier: [10.11164124]\n",
      "  - Grupo SEM101: 1 outliers detectados\n",
      "    Media: 241.25, Std: 1.41\n",
      "    Valores outlier: [235.68065]\n",
      "  - Grupo SEM102: 1 outliers detectados\n",
      "    Media: 43.79, Std: 5.74\n",
      "    Valores outlier: [18.96382002]\n",
      "  - Grupo SEM103: 1 outliers detectados\n",
      "    Media: 79.72, Std: 9.18\n",
      "    Valores outlier: [107.82178814000001]\n",
      "  - Grupo SEM113: 1 outliers detectados\n",
      "    Media: 0.70, Std: 0.08\n",
      "    Valores outlier: [0.9742303999999999]\n",
      "  - Grupo SEM121: Sin variación en valores (std=0)\n",
      "  - Grupo SEM125: 1 outliers detectados\n",
      "    Media: 0.66, Std: 0.01\n",
      "    Valores outlier: [0.70273005]\n",
      "  - Grupo SEM127: 1 outliers detectados\n",
      "    Media: 0.41, Std: 0.07\n",
      "    Valores outlier: [0.6158]\n",
      "  - Grupo SEM132: 1 outliers detectados\n",
      "    Media: 1.17, Std: 0.28\n",
      "    Valores outlier: [2.05212354]\n",
      "  - Grupo SEM133: Sin variación en valores (std=0)\n",
      "\n",
      "Analizando outliers por grupo...\n",
      "  - Grupo FCAR002: 1 outliers detectados\n",
      "    Media: 33.72, Std: 5.78\n",
      "    Valores outlier: [57.0991638]\n",
      "  - Grupo FCAR019: 1 outliers detectados\n",
      "    Media: 3.24, Std: 0.04\n",
      "    Valores outlier: [3.0770079315]\n",
      "  - Grupo FPOS005: 2 outliers detectados\n",
      "    Media: 13.25, Std: 0.23\n",
      "    Valores outlier: [14.234328000000001, 14.001689]\n",
      "  - Grupo SCRE010: 1 outliers detectados\n",
      "    Media: 1.63, Std: 0.02\n",
      "    Valores outlier: [1.5759458575999998]\n",
      "  - Grupo SCRE036: 15 outliers detectados\n",
      "    Media: 0.76, Std: 0.04\n",
      "    Valores outlier: [0.63567958, 0.63864958, 0.61693658, 0.61834458, 0.6215345800000001, 0.6338475800000001, 0.63309958, 0.6338475800000001, 0.6338475800000001, 0.63459558, 0.63524358, 0.62922558, 0.6217975800000001, 0.63454358, 0.62675358]\n",
      "  - Grupo SCRE046: 2 outliers detectados\n",
      "    Media: 0.91, Std: 0.04\n",
      "    Valores outlier: [1.179474088, 0.689202544]\n",
      "  - Grupo SCRE068: 2 outliers detectados\n",
      "    Media: 8.67, Std: 0.76\n",
      "    Valores outlier: [11.019602, 11.283518]\n",
      "  - Grupo SCRE069: 1 outliers detectados\n",
      "    Media: 8.09, Std: 0.03\n",
      "    Valores outlier: [7.936829940000001]\n",
      "  - Grupo SEM085: 1 outliers detectados\n",
      "    Media: 17.39, Std: 1.13\n",
      "    Valores outlier: [21.21774312]\n",
      "  - Grupo SEM101: 1 outliers detectados\n",
      "    Media: 241.43, Std: 0.98\n",
      "    Valores outlier: [238.08930999999998]\n",
      "  - Grupo SEM113: 1 outliers detectados\n",
      "    Media: 0.68, Std: 0.04\n",
      "    Valores outlier: [0.8180263999999999]\n",
      "  - Grupo SEM121: Sin variación en valores (std=0)\n",
      "  - Grupo SEM133: Sin variación en valores (std=0)\n",
      "\n",
      "Analizando outliers por grupo...\n",
      "  - Grupo FCAR002: 2 outliers detectados\n",
      "    Media: 32.97, Std: 3.90\n",
      "    Valores outlier: [46.07928604, 46.05828604]\n",
      "  - Grupo FCAR019: 1 outliers detectados\n",
      "    Media: 3.24, Std: 0.03\n",
      "    Valores outlier: [3.1312788423999995]\n",
      "  - Grupo FPOS005: 1 outliers detectados\n",
      "    Media: 13.21, Std: 0.12\n",
      "    Valores outlier: [13.576611]\n",
      "  - Grupo SCRE036: 3 outliers detectados\n",
      "    Media: 0.77, Std: 0.01\n",
      "    Valores outlier: [0.7305388700000001, 0.72997987, 0.72846687]\n",
      "  - Grupo SCRE068: 2 outliers detectados\n",
      "    Media: 8.60, Std: 0.64\n",
      "    Valores outlier: [10.693898, 10.53941]\n",
      "  - Grupo SCRE069: 2 outliers detectados\n",
      "    Media: 8.10, Std: 0.01\n",
      "    Valores outlier: [8.13478694, 8.13478694]\n",
      "  - Grupo SEM085: 1 outliers detectados\n",
      "    Media: 17.34, Std: 1.03\n",
      "    Valores outlier: [14.214829]\n",
      "  - Grupo SEM113: 1 outliers detectados\n",
      "    Media: 0.68, Std: 0.02\n",
      "    Valores outlier: [0.74176605]\n",
      "  - Grupo SEM121: Sin variación en valores (std=0)\n",
      "  - Grupo SEM133: Sin variación en valores (std=0)\n",
      "\n",
      "Analizando outliers por grupo...\n",
      "  - Grupo FCAR002: 2 outliers detectados\n",
      "    Media: 32.10, Std: 1.85\n",
      "    Valores outlier: [38.3473691632, 38.3636341632]\n",
      "  - Grupo SCRE069: 2 outliers detectados\n",
      "    Media: 8.10, Std: 0.00\n",
      "    Valores outlier: [8.093694467777777, 8.098051815771605]\n",
      "  - Grupo SEM085: 1 outliers detectados\n",
      "    Media: 17.38, Std: 0.96\n",
      "    Valores outlier: [14.305629]\n",
      "  - Grupo SEM121: Sin variación en valores (std=0)\n",
      "  - Grupo SEM133: Sin variación en valores (std=0)\n",
      "\n",
      "=== RESUMEN DE OUTLIERS ===\n",
      "Outliers detectados inicialmente: 40\n",
      "Outliers reemplazados por la media: 35\n",
      "Outliers restantes: 5\n"
     ]
    }
   ],
   "source": [
    "outliers_manager = OutliersManager(costes_fabricacion, Parameters.costes_fabricacion)\n",
    "\n",
    "costes_fabricacion = (outliers_manager\n",
    "    .process_outliers(verbose=True)\n",
    "    .clean_columns()\n",
    "    .get_df()\n",
    ")"
   ]
  },
  {
   "cell_type": "markdown",
   "metadata": {},
   "source": [
    "Último servicio del paquete (hasta este momento) que se encarga de montar gráficos usando matplotlib.\n",
    "\n",
    "De momento está pensado para recrear dos gráficos, uno con un solo artículo, para poder observar la evolución de costes en el tiempo y otro para comparar varios artículos.\n",
    "\n",
    "Los parámetros están definidos en parameters (eje X, eje Y, título)...\n",
    "\n",
    "Pero la decisión de qué datos consultar es del usuario. Por eso en este caso se han incluido varios bloques try/ except con la Excepción personalizada VisualizationError para capturar errores si el usuario no introduce artículo, introduce uno que no esté en el dataframe o las fechas son incorrectas."
   ]
  },
  {
   "cell_type": "code",
   "execution_count": 32,
   "metadata": {},
   "outputs": [
    {
     "name": "stdout",
     "output_type": "stream",
     "text": [
      "\n",
      "Estadísticas para SCRE036:\n",
      " • Media:       0.77\n",
      " • Desv. Est.:  0.01\n",
      " • Mínimo:      0.74\n",
      " • Máximo:      0.78\n"
     ]
    },
    {
     "data": {
      "image/png": "[encoded data removed]",
      "text/plain": [
       "<Figure size 1200x600 with 1 Axes>"
      ]
     },
     "metadata": {},
     "output_type": "display_data"
    }
   ],
   "source": [
    "# Create the visualization manager\n",
    "viz_manager = VisualizationManager(costes_fabricacion, Parameters.costes_fabricacion)\n",
    "\n",
    "# Visualizate a single article over time\n",
    "try:\n",
    "    viz_manager.plot_time_series(\n",
    "        articulo='SCRE036',\n",
    "        start_date='2025-01-01',\n",
    "        end_date='2025-02-28'\n",
    ")\n",
    "except VisualizationError as e:\n",
    "    print(\"!\", e)"
   ]
  },
  {
   "cell_type": "code",
   "execution_count": 33,
   "metadata": {},
   "outputs": [
    {
     "data": {
      "image/png": "[encoded data removed]",
      "text/plain": [
       "<Figure size 1200x600 with 1 Axes>"
      ]
     },
     "metadata": {},
     "output_type": "display_data"
    }
   ],
   "source": [
    "# Comparing multiple articles over time\n",
    "try:\n",
    "    viz_manager.plot_multiple_time_series(\n",
    "        articulos=['FCAR016', 'FCAR017', 'FCAR018', 'FCAR019']\n",
    "    )\n",
    "except VisualizationError as e:\n",
    "    print(\"!\", e)"
   ]
  },
  {
   "cell_type": "markdown",
   "metadata": {},
   "source": [
    "Aquí terminaría de momento el uso de este paquete. Sin embargo, esta hecho para que sea escalable tanto en nuevos dataframes como con nuevas funcionalidades.\n",
    "\n",
    "Cada Clase trabaja por separado, por lo que solo tenemos que incluir dentro de services nuevas funciones. \n",
    "\n",
    "Por otra parte, si queremos trabajar con otro dataframe, lo único que hay que hacer es incluir sus particularidades en config/parameters y aplicar las funciones necesarias."
   ]
  }
 ],
 "metadata": {
  "kernelspec": {
   "display_name": ".venv",
   "language": "python",
   "name": "python3"
  },
  "language_info": {
   "codemirror_mode": {
    "name": "ipython",
    "version": 3
   },
   "file_extension": ".py",
   "mimetype": "text/x-python",
   "name": "python",
   "nbconvert_exporter": "python",
   "pygments_lexer": "ipython3",
   "version": "3.9.6"
  }
 },
 "nbformat": 4,
 "nbformat_minor": 2
}
