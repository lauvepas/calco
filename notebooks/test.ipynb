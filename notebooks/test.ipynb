{
 "cells": [
  {
   "cell_type": "code",
   "execution_count": 43,
   "metadata": {},
   "outputs": [],
   "source": [
    "import sys\n",
    "import os\n",
    "import pandas as pd\n",
    "from pathlib import Path\n"
   ]
  },
  {
   "cell_type": "code",
   "execution_count": 44,
   "metadata": {},
   "outputs": [],
   "source": [
    "# Añadir el directorio src al path de Python\n",
    "src_path = os.path.abspath(os.path.join(os.getcwd(), '..', 'src'))\n",
    "if src_path not in sys.path:\n",
    "    sys.path.append(src_path)\n"
   ]
  },
  {
   "cell_type": "code",
   "execution_count": 45,
   "metadata": {},
   "outputs": [],
   "source": [
    "from calculadora_margen.encoder import Encoder\n",
    "from calculadora_margen.cleaning.cleaner_df import DataFrameCleaner\n",
    "from calculadora_margen.cleaning.params import Parameters\n",
    "from calculadora_margen.cleaning.validador import Validator\n",
    "from calculadora_margen.cleaning.outliers_manager import OutliersManager"
   ]
  },
  {
   "cell_type": "code",
   "execution_count": 46,
   "metadata": {},
   "outputs": [],
   "source": [
    "project_root_path = Path(src_path).parent\n",
    "data_path = project_root_path / 'data'\n",
    "raw_path = data_path / 'raw'\n",
    "clean_path = data_path / 'clean'"
   ]
  },
  {
   "cell_type": "markdown",
   "metadata": {},
   "source": [
    "ETL master_lotes"
   ]
  },
  {
   "cell_type": "code",
   "execution_count": 47,
   "metadata": {},
   "outputs": [],
   "source": [
    "master_lotes = pd.read_csv(raw_path / 'costes.csv',  encoding='UTF-8', sep=';', dtype=str)"
   ]
  },
  {
   "cell_type": "code",
   "execution_count": 48,
   "metadata": {},
   "outputs": [],
   "source": [
    "cleaner = DataFrameCleaner(master_lotes)\n",
    "params = Parameters.master_lotes\n",
    "\n",
    "master_lotes = (cleaner\n",
    "    .columns_cleaner.keep_and_rename(params.cols_to_keep, params.rename_map)\n",
    "    .rows_cleaner.drop_duplicates()\n",
    "    .rows_cleaner.drop_na(params.drop_na_subset)\n",
    "    .data_cleaner.to_upper()\n",
    "    .get_df()\n",
    ")"
   ]
  },
  {
   "cell_type": "code",
   "execution_count": 49,
   "metadata": {},
   "outputs": [],
   "source": [
    "validator = Validator(master_lotes)\n",
    "master_lotes = (validator\n",
    "    .validate_with_map(params.validation_map)\n",
    "    .get_df()\n",
    ")"
   ]
  },
  {
   "cell_type": "code",
   "execution_count": 50,
   "metadata": {},
   "outputs": [],
   "source": [
    "# Creamos clave única para poder hacer merge en otros df\n",
    "encoder = Encoder(master_lotes)\n",
    "master_lotes = encoder.create_key(col1='articulo', col2='lote_proveedor', new_col_name='clave_merge')"
   ]
  },
  {
   "cell_type": "code",
   "execution_count": 51,
   "metadata": {},
   "outputs": [
    {
     "data": {
      "text/plain": [
       "np.int64(0)"
      ]
     },
     "execution_count": 51,
     "metadata": {},
     "output_type": "execute_result"
    }
   ],
   "source": [
    "duplicados = master_lotes['clave_merge'].duplicated().sum()\n",
    "duplicados"
   ]
  },
  {
   "cell_type": "code",
   "execution_count": 52,
   "metadata": {},
   "outputs": [
    {
     "data": {
      "text/html": [
       "<div>\n",
       "<style scoped>\n",
       "    .dataframe tbody tr th:only-of-type {\n",
       "        vertical-align: middle;\n",
       "    }\n",
       "\n",
       "    .dataframe tbody tr th {\n",
       "        vertical-align: top;\n",
       "    }\n",
       "\n",
       "    .dataframe thead th {\n",
       "        text-align: right;\n",
       "    }\n",
       "</style>\n",
       "<table border=\"1\" class=\"dataframe\">\n",
       "  <thead>\n",
       "    <tr style=\"text-align: right;\">\n",
       "      <th></th>\n",
       "      <th>articulo</th>\n",
       "      <th>lote_proveedor</th>\n",
       "      <th>lote_componente</th>\n",
       "      <th>clave_merge</th>\n",
       "    </tr>\n",
       "  </thead>\n",
       "  <tbody>\n",
       "    <tr>\n",
       "      <th>5780</th>\n",
       "      <td>FCAR046</td>\n",
       "      <td>160424</td>\n",
       "      <td>160424</td>\n",
       "      <td>FCAR046-160424</td>\n",
       "    </tr>\n",
       "    <tr>\n",
       "      <th>16673</th>\n",
       "      <td>SCRE061</td>\n",
       "      <td>250124</td>\n",
       "      <td>250124</td>\n",
       "      <td>SCRE061-250124</td>\n",
       "    </tr>\n",
       "  </tbody>\n",
       "</table>\n",
       "</div>"
      ],
      "text/plain": [
       "      articulo lote_proveedor lote_componente     clave_merge\n",
       "5780   FCAR046         160424          160424  FCAR046-160424\n",
       "16673  SCRE061         250124          250124  SCRE061-250124"
      ]
     },
     "execution_count": 52,
     "metadata": {},
     "output_type": "execute_result"
    }
   ],
   "source": [
    "master_lotes.sample(2)"
   ]
  },
  {
   "cell_type": "code",
   "execution_count": 53,
   "metadata": {},
   "outputs": [],
   "source": [
    "master_lotes.to_csv(clean_path / 'master_lotes_clean.csv', index=False)"
   ]
  },
  {
   "cell_type": "markdown",
   "metadata": {},
   "source": [
    "ETL costes"
   ]
  },
  {
   "cell_type": "code",
   "execution_count": 54,
   "metadata": {},
   "outputs": [],
   "source": [
    "costes = pd.read_csv(raw_path / 'costes.csv',  encoding='UTF-8', sep=';', dtype=str)"
   ]
  },
  {
   "cell_type": "code",
   "execution_count": 55,
   "metadata": {},
   "outputs": [],
   "source": [
    "cleaner = DataFrameCleaner(costes)\n",
    "params = Parameters.costes\n",
    "\n",
    "costes = (cleaner\n",
    "    .rows_cleaner.drop_na(params.drop_na_subset)\n",
    "    .rows_cleaner.drop_duplicates()\n",
    "    .columns_cleaner.keep_and_rename(params.cols_to_keep, params.rename_map)\n",
    "    .data_cleaner.fix_numeric_format(params.cols_to_float)\n",
    "    .rows_cleaner.drop_duplicates_batch(params.drop_duplicates_subset)\n",
    "    .data_cleaner.to_upper()\n",
    "    .get_df()\n",
    ")"
   ]
  },
  {
   "cell_type": "code",
   "execution_count": 56,
   "metadata": {},
   "outputs": [
    {
     "name": "stdout",
     "output_type": "stream",
     "text": [
      "Tamaño inicial del DataFrame: 8000\n",
      "\n",
      "Validando columna: componente\n",
      "Filas inválidas encontradas: 1\n",
      "\n",
      "Validando columna: lote_componente\n",
      "Filas inválidas encontradas: 21\n",
      "\n",
      "Tamaño final del DataFrame: 7978\n"
     ]
    }
   ],
   "source": [
    "validator = Validator(costes)\n",
    "\n",
    "costes = (validator\n",
    "    .validate_with_map(params.validation_map)\n",
    "    .get_df()\n",
    ")"
   ]
  },
  {
   "cell_type": "code",
   "execution_count": 57,
   "metadata": {},
   "outputs": [],
   "source": [
    "# Ver las filas inválidas para una columna específica\n",
    "#invalid_rows = validator.get_invalid('lote_interno')\n",
    "#print(invalid_rows.head(10))"
   ]
  },
  {
   "cell_type": "code",
   "execution_count": 58,
   "metadata": {},
   "outputs": [
    {
     "name": "stdout",
     "output_type": "stream",
     "text": [
      "\n",
      "=== RESUMEN DE OUTLIERS ===\n",
      "Outliers detectados inicialmente: 71\n",
      "Outliers reemplazados por la media: 66\n",
      "Outliers restantes: 5\n",
      "\n",
      "Detalle de outliers restantes:\n",
      "- MAT101: 1 outliers (desviación media: 0.0%)\n",
      "- MAT183: 3 outliers (desviación media: 0.0%)\n",
      "- MAT265: 1 outliers (desviación media: 0.0%)\n"
     ]
    }
   ],
   "source": [
    "outliers_manager = OutliersManager(costes)\n",
    "\n",
    "costes = (outliers_manager\n",
    "    .process_outliers()\n",
    "    .clean_columns()\n",
    "    .get_df()\n",
    ")"
   ]
  },
  {
   "cell_type": "code",
   "execution_count": 59,
   "metadata": {},
   "outputs": [],
   "source": [
    "costes.to_csv(clean_path / 'costes_clean.csv', index=False)"
   ]
  },
  {
   "cell_type": "code",
   "execution_count": 60,
   "metadata": {},
   "outputs": [
    {
     "name": "stdout",
     "output_type": "stream",
     "text": [
      "<class 'pandas.core.frame.DataFrame'>\n",
      "RangeIndex: 7978 entries, 0 to 7977\n",
      "Data columns (total 3 columns):\n",
      " #   Column                     Non-Null Count  Dtype  \n",
      "---  ------                     --------------  -----  \n",
      " 0   coste_componente_unitario  7978 non-null   float64\n",
      " 1   lote_componente            7978 non-null   object \n",
      " 2   componente                 7978 non-null   object \n",
      "dtypes: float64(1), object(2)\n",
      "memory usage: 187.1+ KB\n"
     ]
    }
   ],
   "source": [
    "costes.info()"
   ]
  },
  {
   "cell_type": "markdown",
   "metadata": {},
   "source": [
    "ETL fabricaciones"
   ]
  },
  {
   "cell_type": "code",
   "execution_count": 61,
   "metadata": {},
   "outputs": [],
   "source": [
    "fabricaciones = pd.read_csv(raw_path / 'fabricaciones_2025.csv',  encoding='UTF-8', sep=';', dtype=str)"
   ]
  },
  {
   "cell_type": "code",
   "execution_count": 62,
   "metadata": {},
   "outputs": [],
   "source": [
    "# No queremos trabajar con lote_componente_proveedor, unimos a master_lotes para obtener lote_componente\n",
    "encoder = Encoder(fabricaciones)\n",
    "\n",
    "fabricaciones = encoder.create_key(col1='Componente', col2='Lote Componente', new_col_name='clave_merge')\n",
    "fabricaciones = fabricaciones.merge(master_lotes, on=\"clave_merge\", how=\"left\")"
   ]
  },
  {
   "cell_type": "code",
   "execution_count": 63,
   "metadata": {},
   "outputs": [],
   "source": [
    "cleaner = DataFrameCleaner(fabricaciones)\n",
    "params = Parameters.fabricaciones\n",
    "\n",
    "fabricaciones = (cleaner\n",
    "    .rows_cleaner.drop_duplicates()\n",
    "    .columns_cleaner.keep_and_rename(params.cols_to_keep, params.rename_map)\n",
    "    .data_cleaner.fix_numeric_format(params.cols_to_float)\n",
    "    .rows_cleaner.drop_na(params.drop_na_subset)\n",
    "    .data_cleaner.to_upper()\n",
    "    .get_df()\n",
    ")"
   ]
  },
  {
   "cell_type": "code",
   "execution_count": 64,
   "metadata": {},
   "outputs": [
    {
     "name": "stdout",
     "output_type": "stream",
     "text": [
      "Tamaño inicial del DataFrame: 19583\n",
      "\n",
      "Validando columna: articulo\n",
      "Filas inválidas encontradas: 0\n",
      "\n",
      "Validando columna: componente\n",
      "Filas inválidas encontradas: 0\n",
      "\n",
      "Tamaño final del DataFrame: 19583\n"
     ]
    }
   ],
   "source": [
    "validator = Validator(fabricaciones)\n",
    "fabricaciones = (validator\n",
    "    .validate_with_map(params.validation_map)\n",
    "    .get_df()\n",
    ")"
   ]
  },
  {
   "cell_type": "code",
   "execution_count": 65,
   "metadata": {},
   "outputs": [
    {
     "name": "stdout",
     "output_type": "stream",
     "text": [
      "<class 'pandas.core.frame.DataFrame'>\n",
      "Index: 19583 entries, 0 to 19658\n",
      "Data columns (total 9 columns):\n",
      " #   Column               Non-Null Count  Dtype  \n",
      "---  ------               --------------  -----  \n",
      " 0   fecha_fabricacion    19583 non-null  object \n",
      " 1   articulo             19583 non-null  object \n",
      " 2   lote_articulo        19583 non-null  object \n",
      " 3   unidades_fabricadas  19583 non-null  float64\n",
      " 4   componente           19583 non-null  object \n",
      " 5   lote_componente      19583 non-null  object \n",
      " 6   consumo_unitario     19583 non-null  float64\n",
      " 7   consumo_total        19583 non-null  float64\n",
      " 8   id_orden             19583 non-null  object \n",
      "dtypes: float64(3), object(6)\n",
      "memory usage: 1.5+ MB\n"
     ]
    }
   ],
   "source": [
    "fabricaciones.info()"
   ]
  },
  {
   "cell_type": "code",
   "execution_count": 66,
   "metadata": {},
   "outputs": [],
   "source": [
    "fabricaciones.to_csv(clean_path / 'fabricaciones_clean.csv', index=False)"
   ]
  },
  {
   "cell_type": "code",
   "execution_count": 67,
   "metadata": {},
   "outputs": [],
   "source": [
    "master_articulos = pd.read_csv(raw_path / 'master_articulos.csv',  encoding='UTF-8', sep=';', dtype=str)"
   ]
  }
 ],
 "metadata": {
  "kernelspec": {
   "display_name": "Python 3",
   "language": "python",
   "name": "python3"
  },
  "language_info": {
   "codemirror_mode": {
    "name": "ipython",
    "version": 3
   },
   "file_extension": ".py",
   "mimetype": "text/x-python",
   "name": "python",
   "nbconvert_exporter": "python",
   "pygments_lexer": "ipython3",
   "version": "3.13.0"
  }
 },
 "nbformat": 4,
 "nbformat_minor": 2
}
