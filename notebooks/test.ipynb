{
 "cells": [
  {
   "cell_type": "code",
   "execution_count": 119,
   "metadata": {},
   "outputs": [],
   "source": [
    "import sys\n",
    "import os\n",
    "import pandas as pd\n",
    "from pathlib import Path\n"
   ]
  },
  {
   "cell_type": "code",
   "execution_count": 120,
   "metadata": {},
   "outputs": [],
   "source": [
    "# Añadir el directorio src al path de Python\n",
    "src_path = os.path.abspath(os.path.join(os.getcwd(), '..', 'src'))\n",
    "if src_path not in sys.path:\n",
    "    sys.path.append(src_path)\n"
   ]
  },
  {
   "cell_type": "code",
   "execution_count": 121,
   "metadata": {},
   "outputs": [
    {
     "ename": "NameError",
     "evalue": "name 'detectar_outliers_en_costes' is not defined",
     "output_type": "error",
     "traceback": [
      "\u001b[1;31m---------------------------------------------------------------------------\u001b[0m",
      "\u001b[1;31mNameError\u001b[0m                                 Traceback (most recent call last)",
      "Cell \u001b[1;32mIn[3], line 2\u001b[0m\n\u001b[0;32m      1\u001b[0m \u001b[38;5;28;01mfrom\u001b[39;00m \u001b[38;5;21;01mcalculadora_margen\u001b[39;00m\u001b[38;5;21;01m.\u001b[39;00m\u001b[38;5;21;01mencoder\u001b[39;00m \u001b[38;5;28;01mimport\u001b[39;00m Encoder\n\u001b[1;32m----> 2\u001b[0m \u001b[38;5;28;01mfrom\u001b[39;00m \u001b[38;5;21;01mcalculadora_margen\u001b[39;00m\u001b[38;5;21;01m.\u001b[39;00m\u001b[38;5;21;01mcleaning\u001b[39;00m \u001b[38;5;28;01mimport\u001b[39;00m Cleaner\n\u001b[0;32m      3\u001b[0m \u001b[38;5;28;01mfrom\u001b[39;00m \u001b[38;5;21;01mcalculadora_margen\u001b[39;00m\u001b[38;5;21;01m.\u001b[39;00m\u001b[38;5;21;01mcleaning\u001b[39;00m\u001b[38;5;21;01m.\u001b[39;00m\u001b[38;5;21;01mparams\u001b[39;00m \u001b[38;5;28;01mimport\u001b[39;00m Parameters\n\u001b[0;32m      4\u001b[0m \u001b[38;5;28;01mfrom\u001b[39;00m \u001b[38;5;21;01mcalculadora_margen\u001b[39;00m\u001b[38;5;21;01m.\u001b[39;00m\u001b[38;5;21;01mcleaning\u001b[39;00m\u001b[38;5;21;01m.\u001b[39;00m\u001b[38;5;21;01mvalidador\u001b[39;00m \u001b[38;5;28;01mimport\u001b[39;00m Validator\n",
      "File \u001b[1;32mc:\\Users\\laura\\Desktop\\CalculadoraMargen\\src\\calculadora_margen\\cleaning\\__init__.py:4\u001b[0m\n\u001b[0;32m      2\u001b[0m \u001b[38;5;28;01mfrom\u001b[39;00m \u001b[38;5;21;01m.\u001b[39;00m\u001b[38;5;21;01mparams\u001b[39;00m \u001b[38;5;28;01mimport\u001b[39;00m Parameters\n\u001b[0;32m      3\u001b[0m \u001b[38;5;28;01mfrom\u001b[39;00m \u001b[38;5;21;01m.\u001b[39;00m\u001b[38;5;21;01mvalidador\u001b[39;00m \u001b[38;5;28;01mimport\u001b[39;00m Validator\n\u001b[1;32m----> 4\u001b[0m \u001b[38;5;28;01mfrom\u001b[39;00m \u001b[38;5;21;01m.\u001b[39;00m\u001b[38;5;21;01moutliers_manager\u001b[39;00m \u001b[38;5;28;01mimport\u001b[39;00m OutliersManager\n\u001b[0;32m      6\u001b[0m __all__ \u001b[38;5;241m=\u001b[39m [\n\u001b[0;32m      7\u001b[0m     \u001b[38;5;124m'\u001b[39m\u001b[38;5;124mCleaner\u001b[39m\u001b[38;5;124m'\u001b[39m,\n\u001b[0;32m      8\u001b[0m     \u001b[38;5;124m'\u001b[39m\u001b[38;5;124mParameters\u001b[39m\u001b[38;5;124m'\u001b[39m,\n\u001b[0;32m      9\u001b[0m     \u001b[38;5;124m'\u001b[39m\u001b[38;5;124mValidator\u001b[39m\u001b[38;5;124m'\u001b[39m,\n\u001b[0;32m     10\u001b[0m     \u001b[38;5;124m'\u001b[39m\u001b[38;5;124mOutliersManager\u001b[39m\u001b[38;5;124m'\u001b[39m\n\u001b[0;32m     11\u001b[0m ]\n",
      "File \u001b[1;32mc:\\Users\\laura\\Desktop\\CalculadoraMargen\\src\\calculadora_margen\\cleaning\\outliers_manager.py:112\u001b[0m\n\u001b[0;32m    108\u001b[0m count \u001b[38;5;241m=\u001b[39m \u001b[38;5;241m0\u001b[39m\n\u001b[0;32m    110\u001b[0m \u001b[38;5;28;01mwhile\u001b[39;00m sum_outliers_3 \u001b[38;5;241m>\u001b[39m \u001b[38;5;241m5\u001b[39m:\n\u001b[0;32m    111\u001b[0m     \u001b[38;5;66;03m# 1. Detectar outliers sin warning\u001b[39;00m\n\u001b[1;32m--> 112\u001b[0m     costes \u001b[38;5;241m=\u001b[39m \u001b[43mdetectar_outliers_en_costes\u001b[49m(costes)\n\u001b[0;32m    114\u001b[0m     sum_outliers_1 \u001b[38;5;241m=\u001b[39m costes[\u001b[38;5;124m'\u001b[39m\u001b[38;5;124mis_outlier\u001b[39m\u001b[38;5;124m'\u001b[39m]\u001b[38;5;241m.\u001b[39msum()\n\u001b[0;32m    116\u001b[0m     \u001b[38;5;66;03m# 2. Separar\u001b[39;00m\n",
      "\u001b[1;31mNameError\u001b[0m: name 'detectar_outliers_en_costes' is not defined"
     ]
    }
   ],
   "source": [
    "from calculadora_margen.encoder import Encoder\n",
    "from calculadora_margen.cleaning import Cleaner\n",
    "from calculadora_margen.cleaning.params import Parameters\n",
    "from calculadora_margen.cleaning.validador import Validator\n",
    "from calculadora_margen.cleaning.outliers_manager import OutliersManager"
   ]
  },
  {
   "cell_type": "code",
   "execution_count": 122,
   "metadata": {},
   "outputs": [],
   "source": [
    "project_root_path = Path(src_path).parent\n",
    "data_path = project_root_path / 'data'\n",
    "raw_path = data_path / 'raw'\n",
    "clean_path = data_path / 'clean'"
   ]
  },
  {
   "cell_type": "markdown",
   "metadata": {},
   "source": [
    "ETL master_lotes"
   ]
  },
  {
   "cell_type": "code",
   "execution_count": 123,
   "metadata": {},
   "outputs": [],
   "source": [
    "master_lotes = pd.read_csv(raw_path / 'costes.csv',  encoding='UTF-8', sep=';', dtype=str)"
   ]
  },
  {
   "cell_type": "code",
   "execution_count": 124,
   "metadata": {},
   "outputs": [],
   "source": [
    "cleaner = Cleaner(master_lotes)\n",
    "params = Parameters.master_lotes\n",
    "\n",
    "master_lotes = (cleaner\n",
    "    .keep_and_rename(params.cols_to_keep, params.rename_map)\n",
    "    .drop_duplicates()\n",
    "    .drop_na(subset=['lote_componente'])\n",
    "    .get_df()\n",
    ")"
   ]
  },
  {
   "cell_type": "code",
   "execution_count": 125,
   "metadata": {},
   "outputs": [],
   "source": [
    "# Creamos clave única para poder hacer merge en otros df\n",
    "encoder = Encoder(master_lotes)\n",
    "master_lotes = encoder.create_key(col2='lote_componente', new_col_name='clave_unica')"
   ]
  },
  {
   "cell_type": "code",
   "execution_count": 126,
   "metadata": {},
   "outputs": [
    {
     "name": "stdout",
     "output_type": "stream",
     "text": [
      "<class 'pandas.core.frame.DataFrame'>\n",
      "Index: 19252 entries, 4 to 19325\n",
      "Data columns (total 4 columns):\n",
      " #   Column           Non-Null Count  Dtype \n",
      "---  ------           --------------  ----- \n",
      " 0   articulo         19252 non-null  object\n",
      " 1   lote_proveedor   19252 non-null  object\n",
      " 2   lote_componente  19252 non-null  object\n",
      " 3   clave_unica      19252 non-null  object\n",
      "dtypes: object(4)\n",
      "memory usage: 752.0+ KB\n"
     ]
    }
   ],
   "source": [
    "master_lotes.info()"
   ]
  },
  {
   "cell_type": "code",
   "execution_count": 127,
   "metadata": {},
   "outputs": [],
   "source": [
    "master_lotes.to_csv(clean_path / 'master_lotes_clean.csv', index=False)"
   ]
  },
  {
   "cell_type": "markdown",
   "metadata": {},
   "source": [
    "ETL costes"
   ]
  },
  {
   "cell_type": "code",
   "execution_count": 128,
   "metadata": {},
   "outputs": [],
   "source": [
    "costes = pd.read_csv(raw_path / 'costes.csv',  encoding='UTF-8', sep=';', dtype=str)"
   ]
  },
  {
   "cell_type": "code",
   "execution_count": 129,
   "metadata": {},
   "outputs": [],
   "source": [
    "cleaner = Cleaner(costes)\n",
    "params = Parameters.costes\n",
    "\n",
    "costes = (cleaner\n",
    "    .drop_na(subset=['PRCMONEDA'])\n",
    "    .drop_duplicates()\n",
    "    .keep_and_rename(params.cols_to_keep, params.rename_map)\n",
    "    .fix_numeric_format(params.cols_to_float)\n",
    "    .drop_duplicates_batch('lote_componente')\n",
    "    .get_df()\n",
    ")"
   ]
  },
  {
   "cell_type": "code",
   "execution_count": 130,
   "metadata": {},
   "outputs": [
    {
     "name": "stdout",
     "output_type": "stream",
     "text": [
      "Tamaño inicial del DataFrame: 8000\n",
      "\n",
      "Validando columna: componente\n",
      "Filas inválidas encontradas: 1\n",
      "\n",
      "Validando columna: lote_componente\n",
      "Filas inválidas encontradas: 21\n",
      "\n",
      "Tamaño final del DataFrame: 7978\n"
     ]
    }
   ],
   "source": [
    "validator = Validator(costes)\n",
    "params = Parameters.costes\n",
    "\n",
    "costes = (validator\n",
    "    .validate_with_map(params.validation_map)\n",
    "    .get_df()\n",
    ")"
   ]
  },
  {
   "cell_type": "code",
   "execution_count": 131,
   "metadata": {},
   "outputs": [],
   "source": [
    "# Ver las filas inválidas para una columna específica\n",
    "#invalid_rows = validator.get_invalid('lote_interno')\n",
    "#print(invalid_rows.head(10))"
   ]
  },
  {
   "cell_type": "code",
   "execution_count": 132,
   "metadata": {},
   "outputs": [
    {
     "name": "stdout",
     "output_type": "stream",
     "text": [
      "\n",
      "=== RESUMEN DE OUTLIERS ===\n",
      "Outliers detectados inicialmente: 71\n",
      "Outliers reemplazados por la media: 66\n",
      "Outliers restantes: 5\n",
      "\n",
      "Detalle de outliers restantes:\n",
      "- MAT101: 1 outliers (desviación media: 0.0%)\n",
      "- MAT183: 3 outliers (desviación media: 0.0%)\n",
      "- MAT265: 1 outliers (desviación media: 0.0%)\n"
     ]
    }
   ],
   "source": [
    "outliers_manager = OutliersManager(costes)\n",
    "\n",
    "costes = (outliers_manager\n",
    "    .process_outliers()\n",
    "    .clean_columns()\n",
    "    .get_df()\n",
    ")"
   ]
  },
  {
   "cell_type": "code",
   "execution_count": 133,
   "metadata": {},
   "outputs": [],
   "source": [
    "costes.to_csv(clean_path / 'costes_clean.csv', index=False)"
   ]
  },
  {
   "cell_type": "code",
   "execution_count": 134,
   "metadata": {},
   "outputs": [
    {
     "name": "stdout",
     "output_type": "stream",
     "text": [
      "<class 'pandas.core.frame.DataFrame'>\n",
      "RangeIndex: 7978 entries, 0 to 7977\n",
      "Data columns (total 3 columns):\n",
      " #   Column                     Non-Null Count  Dtype  \n",
      "---  ------                     --------------  -----  \n",
      " 0   coste_componente_unitario  7978 non-null   float64\n",
      " 1   lote_componente            7978 non-null   object \n",
      " 2   componente                 7978 non-null   object \n",
      "dtypes: float64(1), object(2)\n",
      "memory usage: 187.1+ KB\n"
     ]
    }
   ],
   "source": [
    "costes.info()"
   ]
  },
  {
   "cell_type": "code",
   "execution_count": 135,
   "metadata": {},
   "outputs": [],
   "source": [
    "fabricaciones = pd.read_csv(raw_path / 'fabricaciones_2025.csv',  encoding='UTF-8', sep=';', dtype=str)"
   ]
  },
  {
   "cell_type": "code",
   "execution_count": 136,
   "metadata": {},
   "outputs": [],
   "source": [
    "cleaner = Cleaner(fabricaciones)\n",
    "params = Parameters.fabricaciones\n",
    "\n",
    "fabricaciones = (cleaner\n",
    "    #.drop_na(subset=['PRCMONEDA'])\n",
    "    .drop_duplicates()\n",
    "    .keep_and_rename(params.cols_to_keep, params.rename_map)\n",
    "    .fix_numeric_format(params.cols_to_float)\n",
    "    .get_df()\n",
    ")"
   ]
  },
  {
   "cell_type": "code",
   "execution_count": 137,
   "metadata": {},
   "outputs": [
    {
     "name": "stdout",
     "output_type": "stream",
     "text": [
      "<class 'pandas.core.frame.DataFrame'>\n",
      "RangeIndex: 19659 entries, 0 to 19658\n",
      "Data columns (total 9 columns):\n",
      " #   Column                     Non-Null Count  Dtype  \n",
      "---  ------                     --------------  -----  \n",
      " 0   fecha_fabricacion          19659 non-null  object \n",
      " 1   articulo                   19659 non-null  object \n",
      " 2   lote_articulo              19654 non-null  object \n",
      " 3   unidades_fabricadas        19659 non-null  float64\n",
      " 4   componente                 19659 non-null  object \n",
      " 5   lote_componente_proveedor  19588 non-null  object \n",
      " 6   consumo_unitario           19659 non-null  float64\n",
      " 7   consumo_total              19659 non-null  float64\n",
      " 8   id_orden                   19659 non-null  object \n",
      "dtypes: float64(3), object(6)\n",
      "memory usage: 1.3+ MB\n"
     ]
    }
   ],
   "source": [
    "fabricaciones.info()"
   ]
  }
 ],
 "metadata": {
  "kernelspec": {
   "display_name": ".venv",
   "language": "python",
   "name": "python3"
  },
  "language_info": {
   "codemirror_mode": {
    "name": "ipython",
    "version": 3
   },
   "file_extension": ".py",
   "mimetype": "text/x-python",
   "name": "python",
   "nbconvert_exporter": "python",
   "pygments_lexer": "ipython3",
   "version": "3.9.6"
  }
 },
 "nbformat": 4,
 "nbformat_minor": 2
}
